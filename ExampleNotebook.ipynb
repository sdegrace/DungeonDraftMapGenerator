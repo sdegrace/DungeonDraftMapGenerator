{
 "cells": [
  {
   "cell_type": "code",
   "execution_count": 1,
   "id": "e23274b1",
   "metadata": {},
   "outputs": [],
   "source": [
    "import json\n",
    "import re\n",
    "import random\n",
    "import itertools\n",
    "from matplotlib import pyplot as plt\n",
    "\n",
    "from numpy.random import default_rng\n",
    "\n",
    "import matplotlib.pyplot as plt\n",
    "import numpy as np\n",
    "import copy\n",
    "\n",
    "%matplotlib inline\n",
    "\n",
    "from shapely.geometry import *\n",
    "from shapely.geometry.polygon import Polygon\n",
    "from shapely import ops\n",
    "\n",
    "from lloyd import Field\n",
    "from scipy.spatial import voronoi_plot_2d\n",
    "\n",
    "rng = default_rng()\n",
    "\n",
    "num_major_points = 20\n",
    "num_minor_points = 40\n",
    "relaxation_amount = 5\n",
    "exterior_buffer = 0.1\n",
    "min_building_street_face = 3\n",
    "mean_building_street_face = 5\n",
    "max_building_street_face = 20\n",
    "min_building_depth = 3\n",
    "mean_building_depth = 7\n",
    "max_building_depth = 35\n",
    "min_street_offset = 3\n",
    "max_street_offset = 3"
   ]
  },
  {
   "cell_type": "code",
   "execution_count": 2,
   "id": "7603c022",
   "metadata": {},
   "outputs": [],
   "source": [
    "with open('./redditexample.dungeondraft_map') as f:\n",
    "    txt = f.read()\n",
    "m = json.loads(txt)\n",
    "new_map = copy.deepcopy(m)"
   ]
  },
  {
   "cell_type": "code",
   "execution_count": 3,
   "id": "0826c9e4",
   "metadata": {},
   "outputs": [
    {
     "data": {
      "text/plain": [
       "dict"
      ]
     },
     "execution_count": 3,
     "metadata": {},
     "output_type": "execute_result"
    }
   ],
   "source": [
    "type(m)"
   ]
  },
  {
   "cell_type": "code",
   "execution_count": 4,
   "id": "060e54af",
   "metadata": {},
   "outputs": [],
   "source": [
    "def gen_node(current):\n",
    "    current = int(current, 16)\n",
    "    while True:\n",
    "        current += 1 \n",
    "        yield hex(current)[2:]"
   ]
  },
  {
   "cell_type": "code",
   "execution_count": 5,
   "id": "b5249f66",
   "metadata": {},
   "outputs": [],
   "source": [
    "next_node = gen_node(hex(max([int(s, 16) for s in re.findall('\"node_id\": \"(.*)\"', txt)]))[2:])"
   ]
  },
  {
   "cell_type": "code",
   "execution_count": 6,
   "id": "ae88e2a5",
   "metadata": {},
   "outputs": [],
   "source": [
    "t = eval(re.findall('\\(.*\\)', m['world']['levels']['0']['patterns'][0]['points'])[0])\n",
    "all_lines = list(itertools.pairwise(list(itertools.pairwise(t + t[:2]))[::2]))"
   ]
  },
  {
   "cell_type": "code",
   "execution_count": 7,
   "id": "b16e288d",
   "metadata": {},
   "outputs": [],
   "source": [
    "p = Polygon([l[0] for l in all_lines])"
   ]
  },
  {
   "cell_type": "code",
   "execution_count": 8,
   "id": "87aa40ef",
   "metadata": {},
   "outputs": [
    {
     "data": {
      "text/plain": [
       "[((2048.0, 3328.0), (2048.0, 2816.0)),\n",
       " ((2048.0, 2816.0), (2816.0, 2048.0)),\n",
       " ((2816.0, 2048.0), (4608.0, 1024.0)),\n",
       " ((4608.0, 1024.0), (6912.0, 1280.0)),\n",
       " ((6912.0, 1280.0), (8704.0, 3584.0)),\n",
       " ((8704.0, 3584.0), (8704.0, 5888.0)),\n",
       " ((8704.0, 5888.0), (4352.0, 6400.0)),\n",
       " ((4352.0, 6400.0), (3840.0, 4608.0)),\n",
       " ((3840.0, 4608.0), (1792.0, 5632.0)),\n",
       " ((1792.0, 5632.0), (512.0, 4608.0)),\n",
       " ((512.0, 4608.0), (2304.0, 3840.0)),\n",
       " ((2304.0, 3840.0), (2048.0, 3328.0))]"
      ]
     },
     "execution_count": 8,
     "metadata": {},
     "output_type": "execute_result"
    }
   ],
   "source": [
    "list(itertools.pairwise(list(itertools.pairwise(list(itertools.chain.from_iterable(p.exterior.coords))))[::2]))"
   ]
  },
  {
   "cell_type": "code",
   "execution_count": 9,
   "id": "5e9f62e5",
   "metadata": {},
   "outputs": [
    {
     "data": {
      "text/plain": [
       "[((0, 0), (1, 1)), ((-1, 0), (1, 0))]"
      ]
     },
     "execution_count": 9,
     "metadata": {},
     "output_type": "execute_result"
    }
   ],
   "source": [
    "[((0, 0), (1, 1)), ((-1, 0), (1, 0))]"
   ]
  },
  {
   "cell_type": "code",
   "execution_count": 10,
   "id": "8752fa44",
   "metadata": {},
   "outputs": [
    {
     "data": {
      "image/svg+xml": [
       "<svg xmlns=\"http://www.w3.org/2000/svg\" xmlns:xlink=\"http://www.w3.org/1999/xlink\" width=\"300\" height=\"300\" viewBox=\"184.32 696.3199999999999 8847.36 6031.360000000001\" preserveAspectRatio=\"xMinYMin meet\"><g transform=\"matrix(1,0,0,-1,0,7424.0)\"><g><polyline fill=\"none\" stroke=\"#66cc99\" stroke-width=\"58.982400000000005\" points=\"2048.0,3328.0 2048.0,2816.0\" opacity=\"0.8\" /><polyline fill=\"none\" stroke=\"#66cc99\" stroke-width=\"58.982400000000005\" points=\"2048.0,2816.0 2816.0,2048.0\" opacity=\"0.8\" /><polyline fill=\"none\" stroke=\"#66cc99\" stroke-width=\"58.982400000000005\" points=\"2816.0,2048.0 4608.0,1024.0\" opacity=\"0.8\" /><polyline fill=\"none\" stroke=\"#66cc99\" stroke-width=\"58.982400000000005\" points=\"4608.0,1024.0 6912.0,1280.0\" opacity=\"0.8\" /><polyline fill=\"none\" stroke=\"#66cc99\" stroke-width=\"58.982400000000005\" points=\"6912.0,1280.0 8704.0,3584.0\" opacity=\"0.8\" /><polyline fill=\"none\" stroke=\"#66cc99\" stroke-width=\"58.982400000000005\" points=\"8704.0,3584.0 8704.0,5888.0\" opacity=\"0.8\" /><polyline fill=\"none\" stroke=\"#66cc99\" stroke-width=\"58.982400000000005\" points=\"8704.0,5888.0 4352.0,6400.0\" opacity=\"0.8\" /><polyline fill=\"none\" stroke=\"#66cc99\" stroke-width=\"58.982400000000005\" points=\"4352.0,6400.0 3840.0,4608.0\" opacity=\"0.8\" /><polyline fill=\"none\" stroke=\"#66cc99\" stroke-width=\"58.982400000000005\" points=\"3840.0,4608.0 1792.0,5632.0\" opacity=\"0.8\" /><polyline fill=\"none\" stroke=\"#66cc99\" stroke-width=\"58.982400000000005\" points=\"1792.0,5632.0 512.0,4608.0\" opacity=\"0.8\" /><polyline fill=\"none\" stroke=\"#66cc99\" stroke-width=\"58.982400000000005\" points=\"512.0,4608.0 2304.0,3840.0\" opacity=\"0.8\" /><polyline fill=\"none\" stroke=\"#66cc99\" stroke-width=\"58.982400000000005\" points=\"2304.0,3840.0 2048.0,3328.0\" opacity=\"0.8\" /></g></g></svg>"
      ],
      "text/plain": [
       "<shapely.geometry.multilinestring.MultiLineString at 0x1621a2f97e0>"
      ]
     },
     "execution_count": 10,
     "metadata": {},
     "output_type": "execute_result"
    }
   ],
   "source": [
    "MultiLineString(list(itertools.pairwise(list(itertools.pairwise(list(itertools.chain.from_iterable(p.exterior.coords))))[::2])))"
   ]
  },
  {
   "cell_type": "code",
   "execution_count": 11,
   "id": "855a2357",
   "metadata": {},
   "outputs": [],
   "source": [
    "def poly_to_multi_line_string(poly):\n",
    "    ring = poly.exterior\n",
    "    if ring.is_ccw:\n",
    "        ring.coords = ring.coords[::-1]\n",
    "    return MultiLineString(list(itertools.pairwise(list(itertools.pairwise(list(itertools.chain.from_iterable(ring.coords))))[::2])))\n",
    "def ring_to_mult_line_string(ring):\n",
    "    if ring.is_ccw:\n",
    "        ring.coords = list(ring.coords)[::-1]\n",
    "    return MultiLineString(list(itertools.pairwise(list(b.interiors[0].coords))))"
   ]
  },
  {
   "cell_type": "code",
   "execution_count": 12,
   "id": "a44989ec",
   "metadata": {},
   "outputs": [],
   "source": [
    "def cut(line, distance):\n",
    "    # Cuts a line in two at a distance from its starting point\n",
    "    if distance <= 0.0 or distance >= line.length:\n",
    "        return [LineString(line)]\n",
    "    coords = list(line.coords)\n",
    "    for i, p in enumerate(coords):\n",
    "        pd = line.project(Point(p))\n",
    "        if pd == distance:\n",
    "            return [\n",
    "                LineString(coords[:i+1]),\n",
    "                LineString(coords[i:])]\n",
    "        if pd > distance:\n",
    "            cp = line.interpolate(distance)\n",
    "            return [\n",
    "                LineString(coords[:i] + [(cp.x, cp.y)]),\n",
    "                LineString([(cp.x, cp.y)] + coords[i:])]"
   ]
  },
  {
   "cell_type": "code",
   "execution_count": 13,
   "id": "2294f2ad",
   "metadata": {},
   "outputs": [],
   "source": [
    "def get_ridges(vor):\n",
    "    center = vor.points.mean(axis=0)\n",
    "    ptp_bound = vor.points.ptp(axis=0)\n",
    "    finite_segments = []\n",
    "    infinite_segments = []\n",
    "    for pointidx, simplex in zip(vor.ridge_points, vor.ridge_vertices):\n",
    "        simplex = np.asarray(simplex)\n",
    "        if np.all(simplex >= 0):\n",
    "            finite_segments.append(vor.vertices[simplex])\n",
    "        else:\n",
    "            i = simplex[simplex >= 0][0]  # finite end Voronoi vertex\n",
    "\n",
    "            t = vor.points[pointidx[1]] - vor.points[pointidx[0]]  # tangent\n",
    "            t /= np.linalg.norm(t)\n",
    "            n = np.array([-t[1], t[0]])  # normal\n",
    "\n",
    "            midpoint = vor.points[pointidx].mean(axis=0)\n",
    "            direction = np.sign(np.dot(midpoint - center, n)) * n\n",
    "            if (vor.furthest_site):\n",
    "                direction = -direction\n",
    "            far_point = vor.vertices[i] + direction * ptp_bound.max()\n",
    "\n",
    "            infinite_segments.append([vor.vertices[i], far_point])\n",
    "\n",
    "    return finite_segments, infinite_segments"
   ]
  },
  {
   "cell_type": "code",
   "execution_count": 14,
   "id": "6cfa66db",
   "metadata": {},
   "outputs": [],
   "source": [
    "def construct_streets(poly, n_points):\n",
    "    \n",
    "    min_x, min_y, max_x, max_y = poly.bounds\n",
    "    \n",
    "    x_range = max_x - min_x\n",
    "    y_range = max_y - min_y\n",
    "    \n",
    "    x_buffer = x_range * exterior_buffer\n",
    "    y_buffer = y_range * exterior_buffer\n",
    "    \n",
    "    xs = rng.integers(min_x - x_buffer, max_x + x_buffer, n_points)\n",
    "    ys = rng.integers(min_y - y_buffer, max_y + y_buffer, n_points)\n",
    "    points = np.vstack([xs, ys]).T\n",
    "    field = Field(points)\n",
    "\n",
    "    for i in range(relaxation_amount):\n",
    "        field.relax()\n",
    "    \n",
    "    mask = []\n",
    "    for p in field.get_points():\n",
    "        mask.append(poly.contains(Point(p[0], p[1])))\n",
    "        \n",
    "    culled_field = Field(field.get_points()[mask])\n",
    "    \n",
    "    finite_segments, infinite_segments = get_ridges(culled_field.voronoi)\n",
    "    \n",
    "    streets = MultiLineString(infinite_segments+finite_segments)\n",
    "    substreets = []\n",
    "    for line in poly.intersection(streets).geoms:\n",
    "        substreets.append(list(line.coords))\n",
    "    split_streets = ops.split(streets, poly)\n",
    "    split_poly = ops.split(poly_to_multi_line_string(poly), streets)\n",
    "    return MultiPolygon(ops.polygonize(poly.intersection(streets).union(split_poly))), poly.intersection(streets)"
   ]
  },
  {
   "cell_type": "code",
   "execution_count": 15,
   "id": "bdffc2e8",
   "metadata": {},
   "outputs": [
    {
     "name": "stderr",
     "output_type": "stream",
     "text": [
      "C:\\ProgramData\\Anaconda3\\envs\\mapgen\\lib\\site-packages\\shapely\\geometry\\base.py:250: ShapelyDeprecationWarning: Setting the 'coords' to mutate a Geometry in place is deprecated, and will not be possible any more in Shapely 2.0\n",
      "  super().__setattr__(name, value)\n"
     ]
    }
   ],
   "source": [
    "polys, streets = construct_streets(p, num_major_points)"
   ]
  },
  {
   "cell_type": "code",
   "execution_count": 16,
   "id": "3c752d32",
   "metadata": {},
   "outputs": [
    {
     "data": {
      "image/svg+xml": [
       "<svg xmlns=\"http://www.w3.org/2000/svg\" xmlns:xlink=\"http://www.w3.org/1999/xlink\" width=\"300\" height=\"300\" viewBox=\"184.32 696.3199999999999 8847.36 6031.360000000001\" preserveAspectRatio=\"xMinYMin meet\"><g transform=\"matrix(1,0,0,-1,0,7424.0)\"><g><path fill-rule=\"evenodd\" fill=\"#ff3333\" stroke=\"#555555\" stroke-width=\"58.982400000000005\" opacity=\"0.6\" d=\"M 3303.0293956512114,2022.3830775298793 L 3233.9106680400846,1809.1939039770946 L 2816.0,2048.0 L 2048.0,2816.0 L 2048.0,3328.0 L 2086.367626910744,3404.735253821488 L 3151.4675450371756,3210.280254646793 L 3303.0293956512114,2022.3830775298793 z\" /><path fill-rule=\"evenodd\" fill=\"#ff3333\" stroke=\"#555555\" stroke-width=\"58.982400000000005\" opacity=\"0.6\" d=\"M 3233.9106680400846,1809.1939039770946 L 3303.0293956512114,2022.3830775298793 L 5031.254103985568,2739.916465760007 L 7047.826675865061,1454.6342975407915 L 6912.0,1280.0 L 4608.0,1024.0 L 3233.9106680400846,1809.1939039770946 z\" /><path fill-rule=\"evenodd\" fill=\"#ff3333\" stroke=\"#555555\" stroke-width=\"58.982400000000005\" opacity=\"0.6\" d=\"M 7047.826675865061,1454.6342975407915 L 5031.254103985568,2739.916465760007 L 4859.020041010615,2922.893449275919 L 4823.378540941358,4460.995233618603 L 8704.0,5498.13843416774 L 8704.0,3584.0 L 7047.826675865061,1454.6342975407915 z\" /><path fill-rule=\"evenodd\" fill=\"#ff3333\" stroke=\"#555555\" stroke-width=\"58.982400000000005\" opacity=\"0.6\" d=\"M 8704.0,5498.13843416774 L 4823.378540941358,4460.995233618603 L 3928.5306741599393,4917.857359559787 L 4352.0,6400.0 L 8704.0,5888.0 L 8704.0,5498.13843416774 z\" /><path fill-rule=\"evenodd\" fill=\"#ff3333\" stroke=\"#555555\" stroke-width=\"58.982400000000005\" opacity=\"0.6\" d=\"M 1966.425691757702,3984.6747035324133 L 2967.2692246338174,5044.365387683091 L 3767.4699589467255,4644.265020526637 L 3625.826319130829,3449.2406593442693 L 3151.4675450371756,3210.280254646793 L 2086.367626910744,3404.735253821488 L 2304.0,3840.0 L 1966.425691757702,3984.6747035324133 z\" /><path fill-rule=\"evenodd\" fill=\"#ff3333\" stroke=\"#555555\" stroke-width=\"58.982400000000005\" opacity=\"0.6\" d=\"M 2967.2692246338174,5044.365387683091 L 1966.425691757702,3984.6747035324133 L 512.0,4608.0 L 1792.0,5632.0 L 2967.2692246338174,5044.365387683091 z\" /><path fill-rule=\"evenodd\" fill=\"#ff3333\" stroke=\"#555555\" stroke-width=\"58.982400000000005\" opacity=\"0.6\" d=\"M 3303.0293956512114,2022.3830775298793 L 3151.4675450371756,3210.280254646793 L 3625.826319130829,3449.2406593442693 L 4859.020041010615,2922.893449275919 L 5031.254103985568,2739.916465760007 L 3303.0293956512114,2022.3830775298793 z\" /><path fill-rule=\"evenodd\" fill=\"#ff3333\" stroke=\"#555555\" stroke-width=\"58.982400000000005\" opacity=\"0.6\" d=\"M 3928.5306741599393,4917.857359559787 L 4823.378540941358,4460.995233618603 L 4859.020041010615,2922.893449275919 L 3625.826319130829,3449.2406593442693 L 3767.4699589467255,4644.265020526637 L 3840.0,4608.0 L 3928.5306741599393,4917.857359559787 z\" /></g></g></svg>"
      ],
      "text/plain": [
       "<shapely.geometry.multipolygon.MultiPolygon at 0x1623a9ad330>"
      ]
     },
     "execution_count": 16,
     "metadata": {},
     "output_type": "execute_result"
    }
   ],
   "source": [
    "polys"
   ]
  },
  {
   "cell_type": "code",
   "execution_count": 17,
   "id": "e0cbb1ba",
   "metadata": {},
   "outputs": [
    {
     "name": "stderr",
     "output_type": "stream",
     "text": [
      "C:\\Users\\Stephen\\AppData\\Local\\Temp\\ipykernel_19020\\111933313.py:1: ShapelyDeprecationWarning: __getitem__ for multi-part geometries is deprecated and will be removed in Shapely 2.0. Use the `geoms` property to access the constituent parts of a multi-part geometry.\n",
      "  subpolys, alleys = construct_streets(polys[4], num_minor_points)\n"
     ]
    },
    {
     "data": {
      "image/svg+xml": [
       "<svg xmlns=\"http://www.w3.org/2000/svg\" xmlns:xlink=\"http://www.w3.org/1999/xlink\" width=\"300\" height=\"300\" viewBox=\"1893.0622864362501 3136.916849325341 1947.7710778319272 1980.8119436792022\" preserveAspectRatio=\"xMinYMin meet\"><g transform=\"matrix(1,0,0,-1,0,8254.645642329884)\"><g><path fill-rule=\"evenodd\" fill=\"#ff3333\" stroke=\"#555555\" stroke-width=\"13.205412957861348\" opacity=\"0.6\" d=\"M 2864.0263295716027,4709.242178899891 L 2761.6849139905344,4826.6932225144 L 2967.2692246338174,5044.365387683091 L 3270.388355316498,4892.805822341751 L 2864.0263295716027,4709.242178899891 z\" /><path fill-rule=\"evenodd\" fill=\"#ff3333\" stroke=\"#555555\" stroke-width=\"13.205412957861348\" opacity=\"0.6\" d=\"M 2761.6849139905344,4826.6932225144 L 2864.0263295716027,4709.242178899891 L 2879.1865498753045,4589.250881061469 L 2674.6228370009862,4461.206152608951 L 2511.261412888617,4561.545432182476 L 2761.6849139905344,4826.6932225144 z\" /><path fill-rule=\"evenodd\" fill=\"#ff3333\" stroke=\"#555555\" stroke-width=\"13.205412957861348\" opacity=\"0.6\" d=\"M 3069.2181495494992,3565.47916314573 L 3280.7385316641435,3275.401106135298 L 3151.4675450371756,3210.280254646793 L 2503.777275794882,3328.5288890026336 L 2826.52389100533,3397.504941079737 L 3069.2181495494992,3565.47916314573 z\" /><path fill-rule=\"evenodd\" fill=\"#ff3333\" stroke=\"#555555\" stroke-width=\"13.205412957861348\" opacity=\"0.6\" d=\"M 3280.7385316641435,3275.401106135298 L 3069.2181495494992,3565.47916314573 L 3103.3076935724735,3649.911513645535 L 3160.5794920753174,3684.60583576773 L 3649.2675358215156,3647.0103935697903 L 3625.826319130829,3449.2406593442693 L 3280.7385316641435,3275.401106135298 z\" /><path fill-rule=\"evenodd\" fill=\"#ff3333\" stroke=\"#555555\" stroke-width=\"13.205412957861348\" opacity=\"0.6\" d=\"M 2864.0263295716027,4709.242178899891 L 3270.388355316498,4892.805822341751 L 3338.541293371557,4858.729353314222 L 3281.923662535044,4610.860580625472 L 2976.4942510722417,4525.076385771281 L 2879.1865498753045,4589.250881061469 L 2864.0263295716027,4709.242178899891 z\" /><path fill-rule=\"evenodd\" fill=\"#ff3333\" stroke=\"#555555\" stroke-width=\"13.205412957861348\" opacity=\"0.6\" d=\"M 2339.2558850940554,3358.5655140633366 L 2394.2671646433655,3481.512749498243 L 2608.749336697203,3594.6017844591315 L 2826.52389100533,3397.504941079737 L 2503.777275794882,3328.5288890026336 L 2339.2558850940554,3358.5655140633366 z\" /><path fill-rule=\"evenodd\" fill=\"#ff3333\" stroke=\"#555555\" stroke-width=\"13.205412957861348\" opacity=\"0.6\" d=\"M 2394.2671646433655,3481.512749498243 L 2339.2558850940554,3358.5655140633366 L 2086.367626910744,3404.735253821488 L 2187.548286442247,3607.096572884494 L 2394.2671646433655,3481.512749498243 z\" /><path fill-rule=\"evenodd\" fill=\"#ff3333\" stroke=\"#555555\" stroke-width=\"13.205412957861348\" opacity=\"0.6\" d=\"M 2394.2671646433655,3481.512749498243 L 2187.548286442247,3607.096572884494 L 2304.0,3840.0 L 2278.6245547042927,3850.8751908410172 L 2335.1430642736505,3913.55146657577 L 2336.3583633939597,3913.8795250957237 L 2603.8374220551486,3751.9718112850474 L 2608.749336697203,3594.6017844591315 L 2394.2671646433655,3481.512749498243 z\" /><path fill-rule=\"evenodd\" fill=\"#ff3333\" stroke=\"#555555\" stroke-width=\"13.205412957861348\" opacity=\"0.6\" d=\"M 2813.6246258111755,3910.910659776994 L 3103.3076935724735,3649.911513645535 L 3069.2181495494992,3565.47916314573 L 2826.52389100533,3397.504941079737 L 2608.749336697203,3594.6017844591315 L 2603.8374220551486,3751.9718112850474 L 2813.6246258111755,3910.910659776994 z\" /><path fill-rule=\"evenodd\" fill=\"#ff3333\" stroke=\"#555555\" stroke-width=\"13.205412957861348\" opacity=\"0.6\" d=\"M 3103.3076935724735,3649.911513645535 L 2813.6246258111755,3910.910659776994 L 2827.104796980489,4075.5092823940704 L 3056.3751915237676,4193.684339712072 L 3112.2743438630146,4177.815739540713 L 3218.5899175399486,4007.6484941716394 L 3160.5794920753174,3684.60583576773 L 3103.3076935724735,3649.911513645535 z\" /><path fill-rule=\"evenodd\" fill=\"#ff3333\" stroke=\"#555555\" stroke-width=\"13.205412957861348\" opacity=\"0.6\" d=\"M 2813.6246258111755,3910.910659776994 L 2603.8374220551486,3751.9718112850474 L 2336.3583633939597,3913.8795250957237 L 2474.907851399801,4150.695153711645 L 2655.9208933886603,4195.386575506654 L 2827.104796980489,4075.5092823940704 L 2813.6246258111755,3910.910659776994 z\" /><path fill-rule=\"evenodd\" fill=\"#ff3333\" stroke=\"#555555\" stroke-width=\"13.205412957861348\" opacity=\"0.6\" d=\"M 3649.2675358215156,3647.0103935697903 L 3160.5794920753174,3684.60583576773 L 3218.5899175399486,4007.6484941716394 L 3548.1060158472737,4002.9865312957036 L 3664.785091108145,3777.929484731377 L 3649.2675358215156,3647.0103935697903 z\" /><path fill-rule=\"evenodd\" fill=\"#ff3333\" stroke=\"#555555\" stroke-width=\"13.205412957861348\" opacity=\"0.6\" d=\"M 2474.907851399801,4150.695153711645 L 2340.4463236839038,4380.686833613695 L 2511.261412888617,4561.545432182476 L 2674.6228370009862,4461.206152608951 L 2655.9208933886603,4195.386575506654 L 2474.907851399801,4150.695153711645 z\" /><path fill-rule=\"evenodd\" fill=\"#ff3333\" stroke=\"#555555\" stroke-width=\"13.205412957861348\" opacity=\"0.6\" d=\"M 2340.4463236839038,4380.686833613695 L 2474.907851399801,4150.695153711645 L 2336.3583633939597,3913.8795250957237 L 2335.1430642736505,3913.55146657577 L 2243.6266649075565,4278.174415760422 L 2340.4463236839038,4380.686833613695 z\" /><path fill-rule=\"evenodd\" fill=\"#ff3333\" stroke=\"#555555\" stroke-width=\"13.205412957861348\" opacity=\"0.6\" d=\"M 2243.6266649075565,4278.174415760422 L 2335.1430642736505,3913.55146657577 L 2278.6245547042927,3850.8751908410172 L 1966.425691757702,3984.6747035324133 L 2243.6266649075565,4278.174415760422 z\" /><path fill-rule=\"evenodd\" fill=\"#ff3333\" stroke=\"#555555\" stroke-width=\"13.205412957861348\" opacity=\"0.6\" d=\"M 2655.9208933886603,4195.386575506654 L 2674.6228370009862,4461.206152608951 L 2879.1865498753045,4589.250881061469 L 2976.4942510722417,4525.076385771281 L 3056.3751915237676,4193.684339712072 L 2827.104796980489,4075.5092823940704 L 2655.9208933886603,4195.386575506654 z\" /><path fill-rule=\"evenodd\" fill=\"#ff3333\" stroke=\"#555555\" stroke-width=\"13.205412957861348\" opacity=\"0.6\" d=\"M 3281.923662535044,4610.860580625472 L 3338.541293371557,4858.729353314222 L 3648.1405167413222,4703.929741629339 L 3587.6422659664813,4547.755139035868 L 3396.5657627641167,4467.095463051191 L 3281.923662535044,4610.860580625472 z\" /><path fill-rule=\"evenodd\" fill=\"#ff3333\" stroke=\"#555555\" stroke-width=\"13.205412957861348\" opacity=\"0.6\" d=\"M 2976.4942510722417,4525.076385771281 L 3281.923662535044,4610.860580625472 L 3396.5657627641167,4467.095463051191 L 3390.9417248298255,4347.276269216257 L 3112.2743438630146,4177.815739540713 L 3056.3751915237676,4193.684339712072 L 2976.4942510722417,4525.076385771281 z\" /><path fill-rule=\"evenodd\" fill=\"#ff3333\" stroke=\"#555555\" stroke-width=\"13.205412957861348\" opacity=\"0.6\" d=\"M 3587.6422659664813,4547.755139035868 L 3648.1405167413222,4703.929741629339 L 3767.4699589467255,4644.265020526637 L 3734.0813420468758,4362.570687951122 L 3587.6422659664813,4547.755139035868 z\" /><path fill-rule=\"evenodd\" fill=\"#ff3333\" stroke=\"#555555\" stroke-width=\"13.205412957861348\" opacity=\"0.6\" d=\"M 3396.5657627641167,4467.095463051191 L 3587.6422659664813,4547.755139035868 L 3734.0813420468758,4362.570687951122 L 3733.650901468816,4358.939130773606 L 3490.5767570940043,4255.7692055297475 L 3390.9417248298255,4347.276269216257 L 3396.5657627641167,4467.095463051191 z\" /><path fill-rule=\"evenodd\" fill=\"#ff3333\" stroke=\"#555555\" stroke-width=\"13.205412957861348\" opacity=\"0.6\" d=\"M 3390.9417248298255,4347.276269216257 L 3490.5767570940043,4255.7692055297475 L 3548.1060158472737,4002.9865312957036 L 3218.5899175399486,4007.6484941716394 L 3112.2743438630146,4177.815739540713 L 3390.9417248298255,4347.276269216257 z\" /><path fill-rule=\"evenodd\" fill=\"#ff3333\" stroke=\"#555555\" stroke-width=\"13.205412957861348\" opacity=\"0.6\" d=\"M 3548.1060158472737,4002.9865312957036 L 3490.5767570940043,4255.7692055297475 L 3733.650901468816,4358.939130773606 L 3664.785091108145,3777.929484731377 L 3548.1060158472737,4002.9865312957036 z\" /></g></g></svg>"
      ],
      "text/plain": [
       "<shapely.geometry.multipolygon.MultiPolygon at 0x1623ab2fa30>"
      ]
     },
     "execution_count": 17,
     "metadata": {},
     "output_type": "execute_result"
    }
   ],
   "source": [
    "subpolys, alleys = construct_streets(polys[4], num_minor_points)\n",
    "subpolys"
   ]
  },
  {
   "cell_type": "code",
   "execution_count": 18,
   "id": "e1e13e8e",
   "metadata": {},
   "outputs": [
    {
     "name": "stderr",
     "output_type": "stream",
     "text": [
      "C:\\Users\\Stephen\\AppData\\Local\\Temp\\ipykernel_19020\\882670920.py:1: ShapelyDeprecationWarning: __len__ for multi-part geometries is deprecated and will be removed in Shapely 2.0. Check the length of the `geoms` property instead to get the  number of parts of a multi-part geometry.\n",
      "  list(subpolys)\n",
      "C:\\Users\\Stephen\\AppData\\Local\\Temp\\ipykernel_19020\\882670920.py:1: ShapelyDeprecationWarning: Iteration over multi-part geometries is deprecated and will be removed in Shapely 2.0. Use the `geoms` property to access the constituent parts of a multi-part geometry.\n",
      "  list(subpolys)\n"
     ]
    },
    {
     "data": {
      "text/plain": [
       "[<shapely.geometry.polygon.Polygon at 0x1623ab2c460>,\n",
       " <shapely.geometry.polygon.Polygon at 0x1623ab2fd90>,\n",
       " <shapely.geometry.polygon.Polygon at 0x1623ab2e260>,\n",
       " <shapely.geometry.polygon.Polygon at 0x1623ab2c6a0>,\n",
       " <shapely.geometry.polygon.Polygon at 0x1623ab2c610>,\n",
       " <shapely.geometry.polygon.Polygon at 0x1623ab2c670>,\n",
       " <shapely.geometry.polygon.Polygon at 0x1623ab2c520>,\n",
       " <shapely.geometry.polygon.Polygon at 0x1623ab2cbb0>,\n",
       " <shapely.geometry.polygon.Polygon at 0x1623ab2c760>,\n",
       " <shapely.geometry.polygon.Polygon at 0x1623ab2c640>,\n",
       " <shapely.geometry.polygon.Polygon at 0x1623ab2c5e0>,\n",
       " <shapely.geometry.polygon.Polygon at 0x1623ab2ccd0>,\n",
       " <shapely.geometry.polygon.Polygon at 0x1623ab2c580>,\n",
       " <shapely.geometry.polygon.Polygon at 0x1623ab2c490>,\n",
       " <shapely.geometry.polygon.Polygon at 0x1623ab2c4f0>,\n",
       " <shapely.geometry.polygon.Polygon at 0x1623ab2cd00>,\n",
       " <shapely.geometry.polygon.Polygon at 0x1623ab2c4c0>,\n",
       " <shapely.geometry.polygon.Polygon at 0x1623ab2cc70>,\n",
       " <shapely.geometry.polygon.Polygon at 0x1623ab2cbe0>,\n",
       " <shapely.geometry.polygon.Polygon at 0x1623ab2c430>,\n",
       " <shapely.geometry.polygon.Polygon at 0x1623ab2caf0>,\n",
       " <shapely.geometry.polygon.Polygon at 0x1623ab2cd30>]"
      ]
     },
     "execution_count": 18,
     "metadata": {},
     "output_type": "execute_result"
    }
   ],
   "source": [
    "list(subpolys)"
   ]
  },
  {
   "cell_type": "code",
   "execution_count": 19,
   "id": "3489d5ab",
   "metadata": {},
   "outputs": [
    {
     "name": "stderr",
     "output_type": "stream",
     "text": [
      "C:\\Users\\Stephen\\AppData\\Local\\Temp\\ipykernel_19020\\2219997503.py:1: ShapelyDeprecationWarning: __getitem__ for multi-part geometries is deprecated and will be removed in Shapely 2.0. Use the `geoms` property to access the constituent parts of a multi-part geometry.\n",
      "  neighborhood = subpolys[0].exterior.parallel_offset(10, 'right').union(subpolys[0].exterior)\n"
     ]
    }
   ],
   "source": [
    "neighborhood = subpolys[0].exterior.parallel_offset(10, 'right').union(subpolys[0].exterior)"
   ]
  },
  {
   "cell_type": "code",
   "execution_count": 20,
   "id": "80f3b20b",
   "metadata": {},
   "outputs": [
    {
     "name": "stderr",
     "output_type": "stream",
     "text": [
      "C:\\Users\\Stephen\\AppData\\Local\\Temp\\ipykernel_19020\\4042530884.py:1: ShapelyDeprecationWarning: __getitem__ for multi-part geometries is deprecated and will be removed in Shapely 2.0. Use the `geoms` property to access the constituent parts of a multi-part geometry.\n",
      "  f=cut(streets[0], 5)[0]\n"
     ]
    }
   ],
   "source": [
    "f=cut(streets[0], 5)[0]"
   ]
  },
  {
   "cell_type": "code",
   "execution_count": 21,
   "id": "8837cdc6",
   "metadata": {},
   "outputs": [
    {
     "name": "stderr",
     "output_type": "stream",
     "text": [
      "C:\\Users\\Stephen\\AppData\\Local\\Temp\\ipykernel_19020\\2955658057.py:1: ShapelyDeprecationWarning: __getitem__ for multi-part geometries is deprecated and will be removed in Shapely 2.0. Use the `geoms` property to access the constituent parts of a multi-part geometry.\n",
      "  cut(streets[0], 5)\n"
     ]
    },
    {
     "data": {
      "text/plain": [
       "[<shapely.geometry.linestring.LineString at 0x1623ab2d0f0>,\n",
       " <shapely.geometry.linestring.LineString at 0x1623ab2f2b0>]"
      ]
     },
     "execution_count": 21,
     "metadata": {},
     "output_type": "execute_result"
    }
   ],
   "source": [
    "cut(streets[0], 5)"
   ]
  },
  {
   "cell_type": "code",
   "execution_count": 22,
   "id": "286e6434",
   "metadata": {},
   "outputs": [
    {
     "data": {
      "image/svg+xml": [
       "<svg xmlns=\"http://www.w3.org/2000/svg\" xmlns:xlink=\"http://www.w3.org/1999/xlink\" width=\"100.0\" height=\"100.0\" viewBox=\"3291.5326288337856 2017.1846249089251 11.938950156556984 8.724725789384593\" preserveAspectRatio=\"xMinYMin meet\"><g transform=\"matrix(1,0,0,-1,0,4043.093975607235)\"><path fill-rule=\"evenodd\" fill=\"#66cc99\" stroke=\"#555555\" stroke-width=\"0.2387790031311397\" opacity=\"0.6\" d=\"M 3303.029395651211,2022.3830775298788 L 3293.5168570875667,2025.467167359178 L 3291.974812172917,2020.710898077356 L 3301.4873507365614,2017.626808248057 L 3303.029395651211,2022.3830775298788 z\" /></g></svg>"
      ],
      "text/plain": [
       "<shapely.geometry.polygon.Polygon at 0x1623ab2e200>"
      ]
     },
     "execution_count": 22,
     "metadata": {},
     "output_type": "execute_result"
    }
   ],
   "source": [
    "f.union(f.parallel_offset(10, 'right')).minimum_rotated_rectangle"
   ]
  },
  {
   "cell_type": "code",
   "execution_count": null,
   "id": "4132ad23",
   "metadata": {},
   "outputs": [],
   "source": []
  },
  {
   "cell_type": "code",
   "execution_count": 23,
   "id": "be93dbba",
   "metadata": {},
   "outputs": [],
   "source": [
    "def poly_to_multi_line_string(poly):\n",
    "    ring = poly.exterior\n",
    "    if ring.is_ccw:\n",
    "        ring.coords = ring.coords[::-1]\n",
    "    return ring_to_mult_line_string(ring)\n",
    "#     return MultiLineString(list(itertools.pairwise(list(itertools.pairwise(list(itertools.chain.from_iterable(ring.coords))))[::2])))\n",
    "def ring_to_mult_line_string(ring):\n",
    "    if ring.is_ccw:\n",
    "        ring.coords = list(ring.coords)[::-1]\n",
    "    return MultiLineString(list(itertools.pairwise(list(ring.coords))))"
   ]
  },
  {
   "cell_type": "code",
   "execution_count": 24,
   "id": "54837a2a",
   "metadata": {},
   "outputs": [
    {
     "name": "stdout",
     "output_type": "stream",
     "text": [
      "MULTILINESTRING ((2048 3328, 2304 3840), (2304 3840, 512 4608), (512 4608, 1792 5632), (1792 5632, 3840 4608), (3840 4608, 4352 6400), (4352 6400, 8704 5888), (8704 5888, 8704 3584), (8704 3584, 6912 1280), (6912 1280, 4608 1024), (4608 1024, 2816 2048), (2816 2048, 2048 2816), (2048 2816, 2048 3328))\n"
     ]
    }
   ],
   "source": [
    "print(poly_to_multi_line_string(p))"
   ]
  },
  {
   "cell_type": "code",
   "execution_count": 25,
   "id": "b6b033d8",
   "metadata": {},
   "outputs": [],
   "source": [
    "from tqdm import tqdm_notebook as tqdm"
   ]
  },
  {
   "cell_type": "code",
   "execution_count": 26,
   "id": "6dd545d0",
   "metadata": {},
   "outputs": [],
   "source": [
    "def scatter_buildings(neighborhood):\n",
    "    last_remainder = None\n",
    "    boundry = neighborhood.buffer(10, single_sided=True)\n",
    "    buildings = []\n",
    "    for side in neighborhood:\n",
    "        rem_len = side\n",
    "        first = True\n",
    "        while rem_len.length > min_building_depth + min_building_street_face:\n",
    "            max_remain = min(max_building_street_face, rem_len.length - min_building_depth)\n",
    "            front_len = random.uniform(min_building_street_face, max_remain-min_street_offset)\n",
    "            if first and last_remainder is not None:\n",
    "                depth = last_remainder.length\n",
    "            else:\n",
    "                depth = random.uniform(min_building_depth, max_building_depth)\n",
    "\n",
    "            front, rem_len_temp = cut(rem_len, front_len)\n",
    "            front_offset = random.uniform(min_street_offset, max_street_offset)\n",
    "            building = front.parallel_offset(front_offset, 'right').union(front.parallel_offset(depth, 'right')).minimum_rotated_rectangle\n",
    "            while not MultiPolygon(buildings + [building] + list(boundry)).is_valid:\n",
    "                if front_len > min_building_street_face:\n",
    "                    front_len *= .9\n",
    "                if depth > min_building_depth:\n",
    "                    depth *= .9\n",
    "                front, rem_len_temp = cut(rem_len, front_len)\n",
    "\n",
    "                if front_len < min_building_street_face and depth < min_building_depth:\n",
    "                    building = None\n",
    "                    break\n",
    "                else:\n",
    "                    building = front.union(front.parallel_offset(depth, 'right')).minimum_rotated_rectangle\n",
    "\n",
    "            rem_len = rem_len_temp\n",
    "            last_remainder = rem_len\n",
    "            if building:\n",
    "                buildings.append(building)\n",
    "            first = False\n",
    "    return MultiPolygon(buildings)\n",
    "            "
   ]
  },
  {
   "cell_type": "code",
   "execution_count": 27,
   "id": "bb7963e1",
   "metadata": {},
   "outputs": [],
   "source": [
    "min_building_street_face = 64\n",
    "mean_building_street_face = 10\n",
    "max_building_street_face = 512\n",
    "min_building_depth = 256\n",
    "mean_building_depth = 7\n",
    "max_building_depth = 512\n",
    "min_street_offset = 64\n",
    "max_street_offset = 128"
   ]
  },
  {
   "cell_type": "code",
   "execution_count": 28,
   "id": "c9282090",
   "metadata": {
    "scrolled": false
   },
   "outputs": [
    {
     "name": "stderr",
     "output_type": "stream",
     "text": [
      "C:\\Users\\Stephen\\AppData\\Local\\Temp\\ipykernel_19020\\1063073940.py:3: ShapelyDeprecationWarning: __len__ for multi-part geometries is deprecated and will be removed in Shapely 2.0. Check the length of the `geoms` property instead to get the  number of parts of a multi-part geometry.\n",
      "  for district in tqdm(list(polys)):\n",
      "C:\\Users\\Stephen\\AppData\\Local\\Temp\\ipykernel_19020\\1063073940.py:3: ShapelyDeprecationWarning: Iteration over multi-part geometries is deprecated and will be removed in Shapely 2.0. Use the `geoms` property to access the constituent parts of a multi-part geometry.\n",
      "  for district in tqdm(list(polys)):\n",
      "C:\\Users\\Stephen\\AppData\\Local\\Temp\\ipykernel_19020\\1063073940.py:3: TqdmDeprecationWarning: This function will be removed in tqdm==5.0.0\n",
      "Please use `tqdm.notebook.tqdm` instead of `tqdm.tqdm_notebook`\n",
      "  for district in tqdm(list(polys)):\n"
     ]
    },
    {
     "data": {
      "application/vnd.jupyter.widget-view+json": {
       "model_id": "bc17f77380294d98b55aba609aaaa40d",
       "version_major": 2,
       "version_minor": 0
      },
      "text/plain": [
       "  0%|          | 0/8 [00:00<?, ?it/s]"
      ]
     },
     "metadata": {},
     "output_type": "display_data"
    },
    {
     "name": "stderr",
     "output_type": "stream",
     "text": [
      "C:\\Users\\Stephen\\AppData\\Local\\Temp\\ipykernel_19020\\189081089.py:5: ShapelyDeprecationWarning: Iteration over multi-part geometries is deprecated and will be removed in Shapely 2.0. Use the `geoms` property to access the constituent parts of a multi-part geometry.\n",
      "  for side in neighborhood:\n",
      "C:\\Users\\Stephen\\AppData\\Local\\Temp\\ipykernel_19020\\189081089.py:19: ShapelyDeprecationWarning: __len__ for multi-part geometries is deprecated and will be removed in Shapely 2.0. Check the length of the `geoms` property instead to get the  number of parts of a multi-part geometry.\n",
      "  while not MultiPolygon(buildings + [building] + list(boundry)).is_valid:\n",
      "C:\\Users\\Stephen\\AppData\\Local\\Temp\\ipykernel_19020\\189081089.py:19: ShapelyDeprecationWarning: Iteration over multi-part geometries is deprecated and will be removed in Shapely 2.0. Use the `geoms` property to access the constituent parts of a multi-part geometry.\n",
      "  while not MultiPolygon(buildings + [building] + list(boundry)).is_valid:\n",
      "C:\\Users\\Stephen\\AppData\\Local\\Temp\\ipykernel_19020\\1063073940.py:5: ShapelyDeprecationWarning: __len__ for multi-part geometries is deprecated and will be removed in Shapely 2.0. Check the length of the `geoms` property instead to get the  number of parts of a multi-part geometry.\n",
      "  buildings.extend(scatter_buildings(neighborhood))\n",
      "C:\\Users\\Stephen\\AppData\\Local\\Temp\\ipykernel_19020\\1063073940.py:13: TqdmDeprecationWarning: This function will be removed in tqdm==5.0.0\n",
      "Please use `tqdm.notebook.tqdm` instead of `tqdm.tqdm_notebook`\n",
      "  for subpoly in tqdm(list_neighborhoods):\n"
     ]
    },
    {
     "data": {
      "application/vnd.jupyter.widget-view+json": {
       "model_id": "b0c798521ea24d57b347fcc751d100c5",
       "version_major": 2,
       "version_minor": 0
      },
      "text/plain": [
       "0it [00:00, ?it/s]"
      ]
     },
     "metadata": {},
     "output_type": "display_data"
    },
    {
     "data": {
      "image/svg+xml": [
       "<svg xmlns=\"http://www.w3.org/2000/svg\" xmlns:xlink=\"http://www.w3.org/1999/xlink\" width=\"300\" height=\"300\" viewBox=\"329.7966145090538 786.1990867978955 8677.279576673398 5837.920560954169\" preserveAspectRatio=\"xMinYMin meet\"><g transform=\"matrix(1,0,0,-1,0,7410.31873454996)\"><g><path fill-rule=\"evenodd\" fill=\"#66cc99\" stroke=\"#555555\" stroke-width=\"57.848530511155985\" opacity=\"0.6\" d=\"M 3170.0011186642228,1934.3867753902232 L 3261.0288291925463,2093.68526881479 L 3221.9913908136614,2115.992376459867 L 3130.963680285338,1956.6938830353001 L 3170.0011186642228,1934.3867753902232 z\" /><path fill-rule=\"evenodd\" fill=\"#66cc99\" stroke=\"#555555\" stroke-width=\"57.848530511155985\" opacity=\"0.6\" d=\"M 3041.4012999475676,2273.4012999475676 L 2727.942101067914,2586.8604988272214 L 2552.818675906468,2411.7370736657754 L 2866.2778747861216,2098.2778747861216 L 3041.4012999475676,2273.4012999475676 z\" /><path fill-rule=\"evenodd\" fill=\"#66cc99\" stroke=\"#555555\" stroke-width=\"57.848530511155985\" opacity=\"0.6\" d=\"M 2704.896036879887,2646.9821343422263 L 2528.989115022838,2822.8890561992753 L 2349.422898411954,2643.322839588391 L 2525.329820269003,2467.4159177313422 L 2704.896036879887,2646.9821343422263 z\" /><path fill-rule=\"evenodd\" fill=\"#66cc99\" stroke=\"#555555\" stroke-width=\"57.848530511155985\" opacity=\"0.6\" d=\"M 2336.3509480831144,2816.0 L 2336.3509480831144,2957.6975838976864 L 2143.668116216133,2957.6975838976864 L 2143.668116216133,2816.0 L 2336.3509480831144,2816.0 z\" /><path fill-rule=\"evenodd\" fill=\"#66cc99\" stroke=\"#555555\" stroke-width=\"57.848530511155985\" opacity=\"0.6\" d=\"M 2294.6118446454407,3016.388012981233 L 2356.5080527722166,3355.415790554278 L 2143.9894569063586,3394.215252163848 L 2082.0932487795826,3055.187474590803 L 2294.6118446454407,3016.388012981233 z\" /><path fill-rule=\"evenodd\" fill=\"#66cc99\" stroke=\"#555555\" stroke-width=\"57.848530511155985\" opacity=\"0.6\" d=\"M 2444.2755400330725,3062.458931705616 L 2493.2042751082654,3330.45919883066 L 2356.5080527722166,3355.4157905542775 L 2307.5793176970237,3087.415523429234 L 2444.2755400330725,3062.458931705616 z\" /><path fill-rule=\"evenodd\" fill=\"#66cc99\" stroke=\"#555555\" stroke-width=\"57.848530511155985\" opacity=\"0.6\" d=\"M 2708.4477295773027,3200.4112106166485 L 2538.7965708599054,3231.38437601357 L 2479.6006950512033,2907.1472890532687 L 2649.2518537686005,2876.174123656347 L 2708.4477295773027,3200.4112106166485 z\" /><path fill-rule=\"evenodd\" fill=\"#66cc99\" stroke=\"#555555\" stroke-width=\"57.848530511155985\" opacity=\"0.6\" d=\"M 2749.1259437045746,2868.4265014985344 L 2803.643828608247,3167.0405509895504 L 2705.622476178727,3184.936282349021 L 2651.1045912750546,2886.322232858005 L 2749.1259437045746,2868.4265014985344 z\" /><path fill-rule=\"evenodd\" fill=\"#66cc99\" stroke=\"#555555\" stroke-width=\"57.848530511155985\" opacity=\"0.6\" d=\"M 3088.5401795979096,2804.083438274272 L 3038.5523178420854,3195.873586186036 L 2878.4665454213136,3175.4485053015464 L 2928.454407177138,2783.6583573897824 L 3088.5401795979096,2804.083438274272 z\" /><path fill-rule=\"evenodd\" fill=\"#66cc99\" stroke=\"#555555\" stroke-width=\"57.848530511155985\" opacity=\"0.6\" d=\"M 3247.264664506697,2459.450627450106 L 3209.481350611496,2755.5851212979583 L 2897.7808473795526,2715.815765820729 L 2935.5641612747536,2419.681271972877 L 3247.264664506697,2459.450627450106 z\" /><path fill-rule=\"evenodd\" fill=\"#66cc99\" stroke=\"#555555\" stroke-width=\"57.848530511155985\" opacity=\"0.6\" d=\"M 3657.5524205176453,1839.3228835991504 L 3583.499843472799,2017.6832156255275 L 3345.9323109587626,1919.048682907524 L 3419.984888003609,1740.6883508811468 L 3657.5524205176453,1839.3228835991504 z\" /><path fill-rule=\"evenodd\" fill=\"#66cc99\" stroke=\"#555555\" stroke-width=\"57.848530511155985\" opacity=\"0.6\" d=\"M 3981.7806793163295,1946.031537679991 L 3854.9425324365075,2251.529265023025 L 3540.596928165248,2121.0176102478827 L 3667.43507504507,1815.519882904849 L 3981.7806793163295,1946.031537679991 z\" /><path fill-rule=\"evenodd\" fill=\"#66cc99\" stroke=\"#555555\" stroke-width=\"57.848530511155985\" opacity=\"0.6\" d=\"M 4231.46523682728,2294.5937094031756 L 3952.2404381968104,2178.6636947048587 L 4057.1495741242743,1925.9833821035693 L 4336.374372754744,2041.9133968018862 L 4231.46523682728,2294.5937094031756 z\" /><path fill-rule=\"evenodd\" fill=\"#66cc99\" stroke=\"#555555\" stroke-width=\"57.848530511155985\" opacity=\"0.6\" d=\"M 4457.864682503042,2168.0268607315666 L 4367.540323484164,2385.5788124336686 L 4274.774642745743,2347.063871123828 L 4365.099001764621,2129.511919421726 L 4457.864682503042,2168.0268607315666 z\" /><path fill-rule=\"evenodd\" fill=\"#66cc99\" stroke=\"#555555\" stroke-width=\"57.848530511155985\" opacity=\"0.6\" d=\"M 4894.928438172419,2226.216568879115 L 4776.054733429321,2512.5314318222995 L 4441.2261410953515,2373.5155427570016 L 4560.099845838451,2087.2006798138173 L 4894.928438172419,2226.216568879115 z\" /><path fill-rule=\"evenodd\" fill=\"#66cc99\" stroke=\"#555555\" stroke-width=\"57.848530511155985\" opacity=\"0.6\" d=\"M 5148.668850978887,2564.5175323642948 L 4985.674615916341,2668.4034954928957 L 4890.648911989354,2519.3107648062137 L 5053.6431470519,2415.424801677613 L 5148.668850978887,2564.5175323642948 z\" /><path fill-rule=\"evenodd\" fill=\"#66cc99\" stroke=\"#555555\" stroke-width=\"57.848530511155985\" opacity=\"0.6\" d=\"M 5347.330002896197,2538.4624133055195 L 5194.248339048113,2636.0305026314054 L 5069.853407721977,2440.8582573487392 L 5222.935071570062,2343.2901680228533 L 5347.330002896197,2538.4624133055195 z\" /><path fill-rule=\"evenodd\" fill=\"#66cc99\" stroke=\"#555555\" stroke-width=\"57.848530511155985\" opacity=\"0.6\" d=\"M 5333.81479492154,2406.3597254383944 L 5194.249122879675,2187.3850028640513 L 5273.236134968573,2137.0418614495297 L 5412.801807010437,2356.016584023873 L 5333.81479492154,2406.3597254383944 z\" /><path fill-rule=\"evenodd\" fill=\"#66cc99\" stroke=\"#555555\" stroke-width=\"57.848530511155985\" opacity=\"0.6\" d=\"M 5696.13969535106,1957.0750316532974 L 5818.114600814765,2148.450322540978 L 5485.726202412276,2360.301305415099 L 5363.751296948571,2168.9260145274184 L 5696.13969535106,1957.0750316532974 z\" /><path fill-rule=\"evenodd\" fill=\"#66cc99\" stroke=\"#555555\" stroke-width=\"57.848530511155985\" opacity=\"0.6\" d=\"M 5785.826864636683,1934.3629093122 L 5932.957578008042,2165.2069748428303 L 5858.884950127758,2212.417885620484 L 5711.754236756398,1981.5738200898536 L 5785.826864636683,1934.3629093122 z\" /><path fill-rule=\"evenodd\" fill=\"#66cc99\" stroke=\"#555555\" stroke-width=\"57.848530511155985\" opacity=\"0.6\" d=\"M 5854.364199070236,1790.4255526579777 L 5989.773472514505,2002.8789995023994 L 5925.592521125007,2043.785353932968 L 5790.183247680738,1831.3319070885464 L 5854.364199070236,1790.4255526579777 z\" /><path fill-rule=\"evenodd\" fill=\"#66cc99\" stroke=\"#555555\" stroke-width=\"57.848530511155985\" opacity=\"0.6\" d=\"M 6349.31832799157,1758.2139166990614 L 6036.053071985592,1957.876578525234 L 5846.515747154955,1660.4976993562755 L 6159.7810031609315,1460.835037530103 L 6349.31832799157,1758.2139166990614 z\" /><path fill-rule=\"evenodd\" fill=\"#66cc99\" stroke=\"#555555\" stroke-width=\"57.848530511155985\" opacity=\"0.6\" d=\"M 6332.3090730609165,1596.6171245357086 L 6474.653575147009,1819.9517554536578 L 6413.506969629952,1858.9241399907341 L 6271.162467543859,1635.589509072785 L 6332.3090730609165,1596.6171245357086 z\" /><path fill-rule=\"evenodd\" fill=\"#66cc99\" stroke=\"#555555\" stroke-width=\"57.848530511155985\" opacity=\"0.6\" d=\"M 6400.629187538418,1323.9365088854383 L 6602.741840602019,1641.045734140278 L 6483.615093455208,1716.9723266174587 L 6281.502440391607,1399.863101362619 L 6400.629187538418,1323.9365088854383 z\" /><path fill-rule=\"evenodd\" fill=\"#66cc99\" stroke=\"#555555\" stroke-width=\"57.848530511155985\" opacity=\"0.6\" d=\"M 6714.514596036042,1546.3033393616793 L 6640.960069496299,1593.184033204117 L 6544.995234915419,1442.6178322049386 L 6618.549761455162,1395.737138362501 L 6714.514596036042,1546.3033393616793 z\" /><path fill-rule=\"evenodd\" fill=\"#66cc99\" stroke=\"#555555\" stroke-width=\"57.848530511155985\" opacity=\"0.6\" d=\"M 6912.0,1280.0 L 6885.9761490362,1514.2146586742056 L 6751.907820915736,1499.318177771932 L 6777.931671879536,1265.1035190977263 L 6912.0,1280.0 z\" /><path fill-rule=\"evenodd\" fill=\"#66cc99\" stroke=\"#555555\" stroke-width=\"57.848530511155985\" opacity=\"0.6\" d=\"M 6107.077130049817,1190.564125561091 L 6076.651617055357,1464.3937425112344 L 5919.671067236141,1446.9514591979882 L 5950.096580230602,1173.1218422478448 L 6107.077130049817,1190.564125561091 z\" /><path fill-rule=\"evenodd\" fill=\"#66cc99\" stroke=\"#555555\" stroke-width=\"57.848530511155985\" opacity=\"0.6\" d=\"M 5939.250726599313,1270.7345249294362 L 5921.721455429594,1428.4979654569047 L 5734.0970525246,1407.650809578572 L 5751.626323694319,1249.887369051104 L 5939.250726599313,1270.7345249294362 z\" /><path fill-rule=\"evenodd\" fill=\"#66cc99\" stroke=\"#555555\" stroke-width=\"57.848530511155985\" opacity=\"0.6\" d=\"M 5437.236396731104,1203.7818331611115 L 5752.852663890009,1238.8503072898789 L 5716.564936158465,1565.439856873782 L 5400.948668999559,1530.3713827450147 L 5437.236396731104,1203.7818331611115 z\" /><path fill-rule=\"evenodd\" fill=\"#66cc99\" stroke=\"#555555\" stroke-width=\"57.848530511155985\" opacity=\"0.6\" d=\"M 5285.232824450102,1204.205110013544 L 5435.3362374146045,1220.8832670095999 L 5390.37887690128,1625.4995116295222 L 5240.275463936778,1608.8213546334664 L 5285.232824450102,1204.205110013544 z\" /><path fill-rule=\"evenodd\" fill=\"#66cc99\" stroke=\"#555555\" stroke-width=\"57.848530511155985\" opacity=\"0.6\" d=\"M 4968.376482318846,1152.137616599944 L 5223.962177395138,1180.5360271639768 L 5177.489564049495,1598.7895472747582 L 4921.903868973203,1570.3911367107255 L 4968.376482318846,1152.137616599944 z\" /><path fill-rule=\"evenodd\" fill=\"#66cc99\" stroke=\"#555555\" stroke-width=\"57.848530511155985\" opacity=\"0.6\" d=\"M 4964.833412536664,1184.0252446395818 L 4933.678132209011,1464.4227675884526 L 4872.102594796437,1457.5810412092778 L 4903.25787512409,1177.1835182604068 L 4964.833412536664,1184.0252446395818 z\" /><path fill-rule=\"evenodd\" fill=\"#66cc99\" stroke=\"#555555\" stroke-width=\"57.848530511155985\" opacity=\"0.6\" d=\"M 4761.985793558455,1293.4751387272959 L 4469.340293325225,1460.7011388605697 L 4363.114392258126,1274.805811993147 L 4655.759892491356,1107.5798118598732 L 4761.985793558455,1293.4751387272959 z\" /><path fill-rule=\"evenodd\" fill=\"#66cc99\" stroke=\"#555555\" stroke-width=\"57.848530511155985\" opacity=\"0.6\" d=\"M 4308.008241930063,1295.806525791807 L 4461.396941357782,1564.236749790316 L 4147.6643591859,1743.5125110313918 L 3994.2756597581806,1475.0822870328827 L 4308.008241930063,1295.806525791807 z\" /><path fill-rule=\"evenodd\" fill=\"#66cc99\" stroke=\"#555555\" stroke-width=\"57.848530511155985\" opacity=\"0.6\" d=\"M 4081.194248680764,1749.8795948925474 L 3940.5527692462724,1830.2461545693996 L 3802.2213345508135,1588.1661438523456 L 3942.8628139853045,1507.7995841754935 L 4081.194248680764,1749.8795948925474 z\" /><path fill-rule=\"evenodd\" fill=\"#66cc99\" stroke=\"#555555\" stroke-width=\"57.848530511155985\" opacity=\"0.6\" d=\"M 3703.5102196913804,1540.8513030334977 L 3837.575682346306,1775.4658626796179 L 3742.425235199673,1829.8375467634082 L 3608.359772544747,1595.222987117288 L 3703.5102196913804,1540.8513030334977 z\" /><path fill-rule=\"evenodd\" fill=\"#66cc99\" stroke=\"#555555\" stroke-width=\"57.848530511155985\" opacity=\"0.6\" d=\"M 7090.238753612695,1521.1776876360582 L 7231.461866810342,1742.7528900559182 L 7083.854130788368,1836.8321181708925 L 6942.631017590722,1615.2569157510325 L 7090.238753612695,1521.1776876360582 z\" /><path fill-rule=\"evenodd\" fill=\"#66cc99\" stroke=\"#555555\" stroke-width=\"57.848530511155985\" opacity=\"0.6\" d=\"M 7056.398421187161,1988.5421508079394 L 6859.769289376543,1680.0364204350094 L 6948.054849131258,1623.7667591065174 L 7144.683980941876,1932.2724894794474 L 7056.398421187161,1988.5421508079394 z\" /><path fill-rule=\"evenodd\" fill=\"#66cc99\" stroke=\"#555555\" stroke-width=\"57.848530511155985\" opacity=\"0.6\" d=\"M 7036.418939449258,2067.72373273546 L 6958.884889628711,2117.1408144977545 L 6725.206067181931,1750.505132756231 L 6802.740117002477,1701.0880509939366 L 7036.418939449258,2067.72373273546 z\" /><path fill-rule=\"evenodd\" fill=\"#66cc99\" stroke=\"#555555\" stroke-width=\"57.848530511155985\" opacity=\"0.6\" d=\"M 6747.459269964616,1785.4197993389112 L 6878.750752699587,1991.4125451742943 L 6590.442417144832,2175.168670693806 L 6459.1509344098595,1969.1759248584226 L 6747.459269964616,1785.4197993389112 z\" /><path fill-rule=\"evenodd\" fill=\"#66cc99\" stroke=\"#555555\" stroke-width=\"57.848530511155985\" opacity=\"0.6\" d=\"M 6400.401392102616,1996.0181163623952 L 6571.48932222379,2264.4503997885417 L 6209.026784618747,2495.469428177413 L 6037.938854497574,2227.0371447512666 L 6400.401392102616,1996.0181163623952 z\" /><path fill-rule=\"evenodd\" fill=\"#66cc99\" stroke=\"#555555\" stroke-width=\"57.848530511155985\" opacity=\"0.6\" d=\"M 5972.6056287915835,2233.8888023146264 L 6110.894954702535,2450.860972715236 L 6010.221635668786,2515.026093065418 L 5871.932309757834,2298.0539226648084 L 5972.6056287915835,2233.8888023146264 z\" /><path fill-rule=\"evenodd\" fill=\"#66cc99\" stroke=\"#555555\" stroke-width=\"57.848530511155985\" opacity=\"0.6\" d=\"M 5875.3713987811425,2303.449759289746 L 6033.597947889525,2551.702887641469 L 5930.6324909843715,2617.3289243872696 L 5772.40594187599,2369.075796035547 L 5875.3713987811425,2303.449759289746 z\" /><path fill-rule=\"evenodd\" fill=\"#66cc99\" stroke=\"#555555\" stroke-width=\"57.848530511155985\" opacity=\"0.6\" d=\"M 5857.879814342566,2503.18196438552 L 5793.032502212436,2544.5130303238616 L 5661.536700911378,2338.1997142460173 L 5726.384013041508,2296.868648307676 L 5857.879814342566,2503.18196438552 z\" /><path fill-rule=\"evenodd\" fill=\"#66cc99\" stroke=\"#555555\" stroke-width=\"57.848530511155985\" opacity=\"0.6\" d=\"M 5904.2557476062775,2719.019260599663 L 5733.373330626315,2827.9328332968475 L 5525.460843674633,2501.723827286189 L 5696.343260654596,2392.8102545890047 L 5904.2557476062775,2719.019260599663 z\" /><path fill-rule=\"evenodd\" fill=\"#66cc99\" stroke=\"#555555\" stroke-width=\"57.848530511155985\" opacity=\"0.6\" d=\"M 5498.3904645480125,2571.867486390491 L 5592.802891917409,2719.998002930279 L 5510.0434820665,2772.745518798047 L 5415.6310546971035,2624.615002258259 L 5498.3904645480125,2571.867486390491 z\" /><path fill-rule=\"evenodd\" fill=\"#66cc99\" stroke=\"#555555\" stroke-width=\"57.848530511155985\" opacity=\"0.6\" d=\"M 5347.8316746983965,2626.3687154897093 L 5543.459811653964,2933.303912310395 L 5499.278928985157,2961.4630281598565 L 5303.65079202959,2654.527831339171 L 5347.8316746983965,2626.3687154897093 z\" /><path fill-rule=\"evenodd\" fill=\"#66cc99\" stroke=\"#555555\" stroke-width=\"57.848530511155985\" opacity=\"0.6\" d=\"M 4923.164580138635,2924.379831789122 L 5134.5470822509005,2929.2780703454832 L 5131.850766659317,3045.637028708811 L 4920.468264547051,3040.73879015245 L 4923.164580138635,2924.379831789122 z\" /><path fill-rule=\"evenodd\" fill=\"#66cc99\" stroke=\"#555555\" stroke-width=\"57.848530511155985\" opacity=\"0.6\" d=\"M 5222.29132984723,3047.732753043793 L 5218.240313110479,3222.553567518249 L 4960.28584600683,3216.5761450545797 L 4964.336862743581,3041.7553305801234 L 5222.29132984723,3047.732753043793 z\" /><path fill-rule=\"evenodd\" fill=\"#66cc99\" stroke=\"#555555\" stroke-width=\"57.848530511155985\" opacity=\"0.6\" d=\"M 5094.199110022928,3219.679235927558 L 5088.51572795615,3464.944448699912 L 4846.5893266155035,3459.338434886058 L 4852.2727086822815,3214.073222113704 L 5094.199110022928,3219.679235927558 z\" /><path fill-rule=\"evenodd\" fill=\"#66cc99\" stroke=\"#555555\" stroke-width=\"57.848530511155985\" opacity=\"0.6\" d=\"M 5084.444533120782,3464.850109370432 L 5081.42273707176,3595.2551115697956 L 4843.567530566483,3589.743437085422 L 4846.589326615504,3459.3384348860586 L 5084.444533120782,3464.850109370432 z\" /><path fill-rule=\"evenodd\" fill=\"#66cc99\" stroke=\"#555555\" stroke-width=\"57.848530511155985\" opacity=\"0.6\" d=\"M 5285.293867795262,3660.3983778900674 L 5276.380536832445,4045.0513872108386 L 4952.733321108881,4037.5517065141185 L 4961.646652071698,3652.8986971933473 L 5285.293867795262,3660.3983778900674 z\" /><path fill-rule=\"evenodd\" fill=\"#66cc99\" stroke=\"#555555\" stroke-width=\"57.848530511155985\" opacity=\"0.6\" d=\"M 5232.723006469029,4044.0397377300897 L 5231.041738778901,4116.594507566342 L 4831.573628477866,4107.337875251176 L 4833.254896167994,4034.7831054149237 L 5232.723006469029,4044.0397377300897 z\" /><path fill-rule=\"evenodd\" fill=\"#66cc99\" stroke=\"#555555\" stroke-width=\"57.848530511155985\" opacity=\"0.6\" d=\"M 4904.945540830025,4155.800492958488 L 5244.657650650531,4246.592678839459 L 5189.664668799741,4452.356883198902 L 4849.952558979235,4361.564697317931 L 4904.945540830025,4155.800492958488 z\" /><path fill-rule=\"evenodd\" fill=\"#66cc99\" stroke=\"#555555\" stroke-width=\"57.848530511155985\" opacity=\"0.6\" d=\"M 5350.753005436328,4083.3667716144664 L 5767.040082923516,4194.624547320588 L 5665.947837215188,4572.87582239278 L 5249.660759728,4461.618046686659 L 5350.753005436328,4083.3667716144664 z\" /><path fill-rule=\"evenodd\" fill=\"#66cc99\" stroke=\"#555555\" stroke-width=\"57.848530511155985\" opacity=\"0.6\" d=\"M 5778.912219140593,4380.7826043455525 L 6099.938680365329,4466.580823772075 L 6039.524126381723,4692.630625288495 L 5718.497665156988,4606.832405861973 L 5778.912219140593,4380.7826043455525 z\" /><path fill-rule=\"evenodd\" fill=\"#66cc99\" stroke=\"#555555\" stroke-width=\"57.848530511155985\" opacity=\"0.6\" d=\"M 6415.6105509195795,4584.067067885557 L 6357.962674528027,4799.764944587416 L 6034.029423858618,4713.189850389732 L 6091.677300250171,4497.491973687873 L 6415.6105509195795,4584.067067885557 z\" /><path fill-rule=\"evenodd\" fill=\"#66cc99\" stroke=\"#555555\" stroke-width=\"57.848530511155985\" opacity=\"0.6\" d=\"M 6513.565442273538,4456.130464968222 L 6933.303820686023,4568.310642749755 L 6840.904097786915,4914.037585088574 L 6421.16571937443,4801.857407307041 L 6513.565442273538,4456.130464968222 z\" /><path fill-rule=\"evenodd\" fill=\"#66cc99\" stroke=\"#555555\" stroke-width=\"57.848530511155985\" opacity=\"0.6\" d=\"M 6950.590968433323,4734.935459274167 L 7377.792024443899,4849.110128250064 L 7334.737102255633,5010.20635379869 L 6907.536046245057,4896.031684822794 L 6950.590968433323,4734.935459274167 z\" /><path fill-rule=\"evenodd\" fill=\"#66cc99\" stroke=\"#555555\" stroke-width=\"57.848530511155985\" opacity=\"0.6\" d=\"M 7474.089187757503,4727.99823619675 L 7616.0262736958175,4765.932645708155 L 7535.380661220151,5067.679881949309 L 7393.443575281835,5029.745472437902 L 7474.089187757503,4727.99823619675 z\" /><path fill-rule=\"evenodd\" fill=\"#66cc99\" stroke=\"#555555\" stroke-width=\"57.848530511155985\" opacity=\"0.6\" d=\"M 7749.259253109616,4778.594188840589 L 7663.048813363732,5101.163032078082 L 7535.5397354000215,5067.084682872019 L 7621.750175145906,4744.515839634523 L 7749.259253109616,4778.594188840589 z\" /><path fill-rule=\"evenodd\" fill=\"#66cc99\" stroke=\"#555555\" stroke-width=\"57.848530511155985\" opacity=\"0.6\" d=\"M 8081.016621640212,4861.591096802175 L 7993.594864939914,5188.692257818475 L 7719.194742862344,5115.355493631318 L 7806.616499562642,4788.254332615018 L 8081.016621640212,4861.591096802175 z\" /><path fill-rule=\"evenodd\" fill=\"#66cc99\" stroke=\"#555555\" stroke-width=\"57.848530511155985\" opacity=\"0.6\" d=\"M 8024.632547724174,5072.560273548337 L 8122.131399681667,5098.6180254924275 L 8061.264693508865,5326.359619894562 L 7963.765841551372,5300.301867950471 L 8024.632547724174,5072.560273548337 z\" /><path fill-rule=\"evenodd\" fill=\"#66cc99\" stroke=\"#555555\" stroke-width=\"57.848530511155985\" opacity=\"0.6\" d=\"M 8409.92705993695,4932.307458808482 L 8306.432895707158,5319.545859816964 L 8079.3089983272885,5258.844240672979 L 8182.803162557081,4871.605839664497 L 8409.92705993695,4932.307458808482 z\" /><path fill-rule=\"evenodd\" fill=\"#66cc99\" stroke=\"#555555\" stroke-width=\"57.848530511155985\" opacity=\"0.6\" d=\"M 8474.713613304144,5161.944625988081 L 8436.930419188868,5303.315917626388 L 8376.043832872667,5287.043238193797 L 8413.827026987943,5145.671946555489 L 8474.713613304144,5161.944625988081 z\" /><path fill-rule=\"evenodd\" fill=\"#66cc99\" stroke=\"#555555\" stroke-width=\"57.848530511155985\" opacity=\"0.6\" d=\"M 8577.946969373561,4519.100759911929 L 8577.946969373561,4884.066539213391 L 8406.402865908662,4884.066539213391 L 8406.402865908662,4519.100759911929 L 8577.946969373561,4519.100759911929 z\" /><path fill-rule=\"evenodd\" fill=\"#66cc99\" stroke=\"#555555\" stroke-width=\"57.848530511155985\" opacity=\"0.6\" d=\"M 8636.285571577477,4247.380321971215 L 8636.285571577477,4461.455874628605 L 8201.981676074203,4461.455874628605 L 8201.981676074203,4247.380321971215 L 8636.285571577477,4247.380321971215 z\" /><path fill-rule=\"evenodd\" fill=\"#66cc99\" stroke=\"#555555\" stroke-width=\"57.848530511155985\" opacity=\"0.6\" d=\"M 8635.275063627214,3970.1207133280786 L 8635.275063627214,4187.114785698593 L 8377.06653930153,4187.114785698593 L 8377.06653930153,3970.1207133280786 L 8635.275063627214,3970.1207133280786 z\" /><path fill-rule=\"evenodd\" fill=\"#66cc99\" stroke=\"#555555\" stroke-width=\"57.848530511155985\" opacity=\"0.6\" d=\"M 8622.46607414043,3876.1466721343554 L 8622.46607414043,3910.8521457304846 L 8439.742059215387,3910.8521457304846 L 8439.742059215387,3876.1466721343554 L 8622.46607414043,3876.1466721343554 z\" /><path fill-rule=\"evenodd\" fill=\"#66cc99\" stroke=\"#555555\" stroke-width=\"57.848530511155985\" opacity=\"0.6\" d=\"M 8542.007558741216,3544.36235371562 L 8622.27526133811,3647.5636856259134 L 8473.393376551632,3763.3607071265083 L 8393.125673954737,3660.159375216215 L 8542.007558741216,3544.36235371562 z\" /><path fill-rule=\"evenodd\" fill=\"#66cc99\" stroke=\"#555555\" stroke-width=\"57.848530511155985\" opacity=\"0.6\" d=\"M 8536.616584365067,3548.5553337859565 L 8324.871631719778,3713.2458525100683 L 8204.74165963162,3558.7930312538647 L 8416.486612276909,3394.102512529753 L 8536.616584365067,3548.5553337859565 z\" /><path fill-rule=\"evenodd\" fill=\"#66cc99\" stroke=\"#555555\" stroke-width=\"57.848530511155985\" opacity=\"0.6\" d=\"M 8503.602325314945,3326.345846833503 L 8303.191385440039,3482.221022291761 L 8242.32576009508,3403.9652182768123 L 8442.736699969986,3248.090042818554 L 8503.602325314945,3326.345846833503 z\" /><path fill-rule=\"evenodd\" fill=\"#66cc99\" stroke=\"#555555\" stroke-width=\"57.848530511155985\" opacity=\"0.6\" d=\"M 8307.94285723477,3275.034596807736 L 8032.444219098124,3489.311315358461 L 7801.153234700294,3191.9371925612504 L 8076.651872836941,2977.6604740105254 L 8307.94285723477,3275.034596807736 z\" /><path fill-rule=\"evenodd\" fill=\"#66cc99\" stroke=\"#555555\" stroke-width=\"57.848530511155985\" opacity=\"0.6\" d=\"M 8050.246552521514,2919.498396078539 L 7895.64872047222,3039.7411543391017 L 7697.496757059051,2784.974344236457 L 7852.094589108345,2664.731585975894 L 8050.246552521514,2919.498396078539 z\" /><path fill-rule=\"evenodd\" fill=\"#66cc99\" stroke=\"#555555\" stroke-width=\"57.848530511155985\" opacity=\"0.6\" d=\"M 7738.037888349925,2505.848429997251 L 7821.17565837375,2612.7398485993103 L 7698.402185741772,2708.2303273130706 L 7615.2644157179475,2601.3389087110113 L 7738.037888349925,2505.848429997251 z\" /><path fill-rule=\"evenodd\" fill=\"#66cc99\" stroke=\"#555555\" stroke-width=\"57.848530511155985\" opacity=\"0.6\" d=\"M 7743.696830442858,2501.447030591636 L 7508.38376735149,2684.4683018849223 L 7353.004597069281,2484.6950829506527 L 7588.317660160648,2301.6738116573665 L 7743.696830442858,2501.447030591636 z\" /><path fill-rule=\"evenodd\" fill=\"#66cc99\" stroke=\"#555555\" stroke-width=\"57.848530511155985\" opacity=\"0.6\" d=\"M 7561.406961661129,2243.60034888395 L 7345.660112164409,2411.4034540480657 L 7104.687639807311,2101.581703874655 L 7320.434489304031,1933.7785987105394 L 7561.406961661129,2243.60034888395 z\" /><path fill-rule=\"evenodd\" fill=\"#66cc99\" stroke=\"#555555\" stroke-width=\"57.848530511155985\" opacity=\"0.6\" d=\"M 8685.695466120475,5566.627498101572 L 8606.13296633781,5864.3221113714535 L 8486.573165355243,5832.368302952798 L 8566.135665137908,5534.673689682919 L 8685.695466120475,5566.627498101572 z\" /><path fill-rule=\"evenodd\" fill=\"#66cc99\" stroke=\"#555555\" stroke-width=\"57.848530511155985\" opacity=\"0.6\" d=\"M 8511.593186969367,5514.682138908282 L 8404.922639336299,5913.805438347792 L 8268.677971763904,5877.392396757783 L 8375.348519396972,5478.2690973182725 L 8511.593186969367,5514.682138908282 z\" /><path fill-rule=\"evenodd\" fill=\"#66cc99\" stroke=\"#555555\" stroke-width=\"57.848530511155985\" opacity=\"0.6\" d=\"M 8006.866235646381,5393.453379628057 L 8310.142889243301,5474.507747461101 L 8235.387671907827,5754.215217379463 L 7932.111018310907,5673.160849546419 L 8006.866235646381,5393.453379628057 z\" /><path fill-rule=\"evenodd\" fill=\"#66cc99\" stroke=\"#555555\" stroke-width=\"57.848530511155985\" opacity=\"0.6\" d=\"M 7579.280603991109,5327.89612350861 L 7994.713248278734,5438.925541568257 L 7937.434182239371,5653.243460935129 L 7522.001537951746,5542.214042875482 L 7579.280603991109,5327.89612350861 z\" /><path fill-rule=\"evenodd\" fill=\"#66cc99\" stroke=\"#555555\" stroke-width=\"57.848530511155985\" opacity=\"0.6\" d=\"M 7360.797051467391,5216.728892428016 L 7592.44500262391,5278.639619871501 L 7544.679445483627,5457.361368174274 L 7313.031494327108,5395.450640730788 L 7360.797051467391,5216.728892428016 z\" /><path fill-rule=\"evenodd\" fill=\"#66cc99\" stroke=\"#555555\" stroke-width=\"57.848530511155985\" opacity=\"0.6\" d=\"M 7098.906235093588,5167.935507053491 L 7355.508798256139,5236.515657535904 L 7274.671883976739,5538.978677175457 L 7018.069320814188,5470.398526693045 L 7098.906235093588,5167.935507053491 z\" /><path fill-rule=\"evenodd\" fill=\"#66cc99\" stroke=\"#555555\" stroke-width=\"57.848530511155985\" opacity=\"0.6\" d=\"M 7039.779705378,5164.798229709006 L 6947.466301865684,5510.202195563437 L 6540.421716314186,5401.414588042581 L 6632.735119826501,5056.010622188151 L 7039.779705378,5164.798229709006 z\" /><path fill-rule=\"evenodd\" fill=\"#66cc99\" stroke=\"#555555\" stroke-width=\"57.848530511155985\" opacity=\"0.6\" d=\"M 6582.269874793927,5021.364860223371 L 6515.3478418322775,5271.763336593173 L 6359.891665718751,5230.215786093717 L 6426.8136986804,4979.817309723914 L 6582.269874793927,5021.364860223371 z\" /><path fill-rule=\"evenodd\" fill=\"#66cc99\" stroke=\"#555555\" stroke-width=\"57.848530511155985\" opacity=\"0.6\" d=\"M 6432.53485868044,4958.410761182585 L 6357.40898767185,5239.505085488087 L 5978.541878215372,5138.248250563556 L 6053.667749223962,4857.153926258054 L 6432.53485868044,4958.410761182585 z\" /><path fill-rule=\"evenodd\" fill=\"#66cc99\" stroke=\"#555555\" stroke-width=\"57.848530511155985\" opacity=\"0.6\" d=\"M 6053.340220945967,4858.379420734957 L 5948.157942144309,5251.934146846345 L 5693.433859129957,5183.8560429906465 L 5798.616137931615,4790.301316879259 L 6053.340220945967,4858.379420734957 z\" /><path fill-rule=\"evenodd\" fill=\"#66cc99\" stroke=\"#555555\" stroke-width=\"57.848530511155985\" opacity=\"0.6\" d=\"M 5787.63164064487,4831.401403989066 L 5691.134165423616,5192.4606799794055 L 5415.528811614432,5118.801802978948 L 5512.026286835686,4757.74252698861 L 5787.63164064487,4831.401403989066 z\" /><path fill-rule=\"evenodd\" fill=\"#66cc99\" stroke=\"#555555\" stroke-width=\"57.848530511155985\" opacity=\"0.6\" d=\"M 5449.562556504218,4756.716043631433 L 5411.090186205612,4900.665987749637 L 5344.817931833641,4882.9539231403705 L 5383.290302132247,4739.003979022167 L 5449.562556504218,4756.716043631433 z\" /><path fill-rule=\"evenodd\" fill=\"#66cc99\" stroke=\"#555555\" stroke-width=\"57.848530511155985\" opacity=\"0.6\" d=\"M 5396.531684582175,4689.459429286324 L 5335.170156178835,4919.0524727123075 L 5218.415833164195,4887.848462342607 L 5279.777361567535,4658.255418916623 L 5396.531684582175,4689.459429286324 z\" /><path fill-rule=\"evenodd\" fill=\"#66cc99\" stroke=\"#555555\" stroke-width=\"57.848530511155985\" opacity=\"0.6\" d=\"M 5208.193427615317,4693.269857600475 L 5141.709251768906,4942.03002817365 L 5053.391185779922,4918.42595274591 L 5119.875361626333,4669.665782172736 L 5208.193427615317,4693.269857600475 z\" /><path fill-rule=\"evenodd\" fill=\"#66cc99\" stroke=\"#555555\" stroke-width=\"57.848530511155985\" opacity=\"0.6\" d=\"M 5119.908852629157,4669.540470736294 L 5038.178689671289,4975.345709645177 L 4998.118749199996,4964.63920417626 L 5079.848912157864,4658.833965267378 L 5119.908852629157,4669.540470736294 z\" /><path fill-rule=\"evenodd\" fill=\"#66cc99\" stroke=\"#555555\" stroke-width=\"57.848530511155985\" opacity=\"0.6\" d=\"M 4864.024837979201,4540.60842572103 L 4959.272094904558,4727.1675643251565 L 4602.426035720795,4909.3543418595455 L 4507.178778795437,4722.795203255418 L 4864.024837979201,4540.60842572103 z\" /><path fill-rule=\"evenodd\" fill=\"#66cc99\" stroke=\"#555555\" stroke-width=\"57.848530511155985\" opacity=\"0.6\" d=\"M 4460.463407864911,4759.821687041276 L 4544.635847675292,4924.688774788893 L 4393.691688040346,5001.752901808901 L 4309.519248229964,4836.885814061284 L 4460.463407864911,4759.821687041276 z\" /><path fill-rule=\"evenodd\" fill=\"#66cc99\" stroke=\"#555555\" stroke-width=\"57.848530511155985\" opacity=\"0.6\" d=\"M 4408.383860397804,5030.530203200151 L 4355.608451705513,5057.474543470299 L 4244.037942432003,4838.943335584682 L 4296.813351124293,4811.998995314534 L 4408.383860397804,5030.530203200151 z\" /><path fill-rule=\"evenodd\" fill=\"#66cc99\" stroke=\"#555555\" stroke-width=\"57.848530511155985\" opacity=\"0.6\" d=\"M 4233.2241663526365,4830.802076076157 L 4350.494052987679,5241.246679298809 L 4136.5695800195435,5302.3679572897045 L 4019.2996933845006,4891.923354067054 L 4233.2241663526365,4830.802076076157 z\" /><path fill-rule=\"evenodd\" fill=\"#66cc99\" stroke=\"#555555\" stroke-width=\"57.848530511155985\" opacity=\"0.6\" d=\"M 4519.323941194392,5602.88636056339 L 4258.59581429197,5677.380111106939 L 4150.3264729611965,5298.437416449234 L 4411.054599863621,5223.943665905685 L 4519.323941194392,5602.88636056339 z\" /><path fill-rule=\"evenodd\" fill=\"#66cc99\" stroke=\"#555555\" stroke-width=\"57.848530511155985\" opacity=\"0.6\" d=\"M 4467.911283183267,5853.269410261986 L 4323.33524702471,5894.576849164431 L 4261.076528841015,5676.671335521498 L 4405.652564999572,5635.363896619053 L 4467.911283183267,5853.269410261986 z\" /><path fill-rule=\"evenodd\" fill=\"#66cc99\" stroke=\"#555555\" stroke-width=\"57.848530511155985\" opacity=\"0.6\" d=\"M 4471.600357449966,5941.1115341236655 L 4239.810620896816,6007.337173138852 L 4216.328620309451,5925.150171083077 L 4448.118356862602,5858.924532067891 L 4471.600357449966,5941.1115341236655 z\" /><path fill-rule=\"evenodd\" fill=\"#66cc99\" stroke=\"#555555\" stroke-width=\"57.848530511155985\" opacity=\"0.6\" d=\"M 4673.317740622138,5981.882440151441 L 4349.169662751485,6074.496176685916 L 4340.656193114101,6044.699032955074 L 4664.804270984754,5952.085296420599 L 4673.317740622138,5981.882440151441 z\" /><path fill-rule=\"evenodd\" fill=\"#66cc99\" stroke=\"#555555\" stroke-width=\"57.848530511155985\" opacity=\"0.6\" d=\"M 4626.941621316089,6269.046675513662 L 4340.557520316479,6302.738922690087 L 4315.340208601642,6088.39177311397 L 4601.724309601252,6054.699525937545 L 4626.941621316089,6269.046675513662 z\" /><path fill-rule=\"evenodd\" fill=\"#66cc99\" stroke=\"#555555\" stroke-width=\"57.848530511155985\" opacity=\"0.6\" d=\"M 5040.04014095979,6194.653248629254 L 4623.948507201773,6243.605205541962 L 4603.742333317008,6071.852727521462 L 5019.833967075025,6022.900770608754 L 5040.04014095979,6194.653248629254 z\" /><path fill-rule=\"evenodd\" fill=\"#66cc99\" stroke=\"#555555\" stroke-width=\"57.848530511155985\" opacity=\"0.6\" d=\"M 5099.921424114748,6002.507597779685 L 5123.939217704096,6206.6588432891485 L 5042.578661524342,6216.230673427943 L 5018.560867934994,6012.079427918479 L 5099.921424114748,6002.507597779685 z\" /><path fill-rule=\"evenodd\" fill=\"#66cc99\" stroke=\"#555555\" stroke-width=\"57.848530511155985\" opacity=\"0.6\" d=\"M 5520.477887539459,6134.403389573762 L 5184.080216175633,6173.9795862048 L 5139.717065083457,5796.892801921307 L 5476.114736447283,5757.316605290269 L 5520.477887539459,6134.403389573762 z\" /><path fill-rule=\"evenodd\" fill=\"#66cc99\" stroke=\"#555555\" stroke-width=\"57.848530511155985\" opacity=\"0.6\" d=\"M 5656.149611033737,6176.952283884604 L 5585.170618065627,6185.302753645558 L 5540.131780629669,5802.472635439922 L 5611.1107735977785,5794.122165678968 L 5656.149611033737,6176.952283884604 z\" /><path fill-rule=\"evenodd\" fill=\"#66cc99\" stroke=\"#555555\" stroke-width=\"57.848530511155985\" opacity=\"0.6\" d=\"M 6044.08235328257,6089.8081178888515 L 5710.316176996998,6129.074726863624 L 5675.304453952462,5831.475080985059 L 6009.070630238033,5792.208472010287 L 6044.08235328257,6089.8081178888515 z\" /><path fill-rule=\"evenodd\" fill=\"#66cc99\" stroke=\"#555555\" stroke-width=\"57.848530511155985\" opacity=\"0.6\" d=\"M 6470.44878998521,6039.422589348022 L 6104.083433847413,6082.524395952469 L 6077.549816074193,5856.988644880095 L 6443.91517221199,5813.886838275648 L 6470.44878998521,6039.422589348022 z\" /><path fill-rule=\"evenodd\" fill=\"#66cc99\" stroke=\"#555555\" stroke-width=\"57.848530511155985\" opacity=\"0.6\" d=\"M 6540.185348107258,5856.968024113874 L 6563.667738800583,6056.568345007139 L 6473.711013492623,6067.151489161017 L 6450.228622799299,5867.551168267752 L 6540.185348107258,5856.968024113874 z\" /><path fill-rule=\"evenodd\" fill=\"#66cc99\" stroke=\"#555555\" stroke-width=\"57.848530511155985\" opacity=\"0.6\" d=\"M 6979.529303717643,5758.326699109691 L 7006.58882477267,5988.332628077409 L 6624.759165816893,6033.253764425149 L 6597.699644761867,5803.2478354574305 L 6979.529303717643,5758.326699109691 z\" /><path fill-rule=\"evenodd\" fill=\"#66cc99\" stroke=\"#555555\" stroke-width=\"57.848530511155985\" opacity=\"0.6\" d=\"M 7260.248128017123,6057.85316140975 L 7018.118979538122,6086.33894358375 L 6986.577155860115,5818.23344232069 L 7228.706304339116,5789.747660146691 L 7260.248128017123,6057.85316140975 z\" /><path fill-rule=\"evenodd\" fill=\"#66cc99\" stroke=\"#555555\" stroke-width=\"57.848530511155985\" opacity=\"0.6\" d=\"M 7602.447124150186,6017.594455982331 L 7260.248128017123,6057.85316140975 L 7214.221245555876,5666.6246604891385 L 7556.420241688938,5626.365955061719 L 7602.447124150186,6017.594455982331 z\" /><path fill-rule=\"evenodd\" fill=\"#66cc99\" stroke=\"#555555\" stroke-width=\"57.848530511155985\" opacity=\"0.6\" d=\"M 7985.204272345665,5972.56420325345 L 7663.266813158748,6010.439198451911 L 7630.513433507636,5732.035471417461 L 7952.450892694553,5694.160476219 L 7985.204272345665,5972.56420325345 z\" /><path fill-rule=\"evenodd\" fill=\"#66cc99\" stroke=\"#555555\" stroke-width=\"57.848530511155985\" opacity=\"0.6\" d=\"M 8120.293722233189,5956.671326796093 L 8044.318882046902,5965.609543288598 L 8016.0418717598,5725.254955848243 L 8092.0167119460875,5716.316739355739 L 8120.293722233189,5956.671326796093 z\" /><path fill-rule=\"evenodd\" fill=\"#66cc99\" stroke=\"#555555\" stroke-width=\"57.848530511155985\" opacity=\"0.6\" d=\"M 2047.3569996228239,4070.3645743100615 L 2218.275864001689,3908.9372421473563 L 2295.641065602671,3990.8513283366387 L 2124.7222012238058,4152.278660499344 L 2047.3569996228239,4070.3645743100615 z\" /><path fill-rule=\"evenodd\" fill=\"#66cc99\" stroke=\"#555555\" stroke-width=\"57.848530511155985\" opacity=\"0.6\" d=\"M 2652.1715787921094,4183.345814862433 L 2476.3529189163555,4349.40084519105 L 2212.1712128360905,4069.685901086054 L 2387.9898727118443,3903.630870757437 L 2652.1715787921094,4183.345814862433 z\" /><path fill-rule=\"evenodd\" fill=\"#66cc99\" stroke=\"#555555\" stroke-width=\"57.848530511155985\" opacity=\"0.6\" d=\"M 2821.504571895398,4245.687258468482 L 2565.8827682148553,4487.113773679238 L 2495.006803486826,4412.070475615802 L 2750.6286071673685,4170.643960405046 L 2821.504571895398,4245.687258468482 z\" /><path fill-rule=\"evenodd\" fill=\"#66cc99\" stroke=\"#555555\" stroke-width=\"57.848530511155985\" opacity=\"0.6\" d=\"M 2740.165044176849,4322.509808201057 L 2981.819402822534,4578.37285195311 L 2812.2603745176143,4738.515862982549 L 2570.6060158719292,4482.652819230498 L 2740.165044176849,4322.509808201057 z\" /><path fill-rule=\"evenodd\" fill=\"#66cc99\" stroke=\"#555555\" stroke-width=\"57.848530511155985\" opacity=\"0.6\" d=\"M 2911.7863318453483,4731.852638455341 L 3018.6590623997317,4945.598099564108 L 2938.0402769394072,4985.90749229427 L 2831.167546385024,4772.162031185502 L 2911.7863318453483,4731.852638455341 z\" /><path fill-rule=\"evenodd\" fill=\"#66cc99\" stroke=\"#555555\" stroke-width=\"57.848530511155985\" opacity=\"0.6\" d=\"M 3141.2268260493975,4673.224976229937 L 3254.891470347543,4900.554264826228 L 3047.8880100941424,5004.055994952929 L 2934.223365795997,4776.726706356638 L 3141.2268260493975,4673.224976229937 z\" /><path fill-rule=\"evenodd\" fill=\"#66cc99\" stroke=\"#555555\" stroke-width=\"57.848530511155985\" opacity=\"0.6\" d=\"M 3401.978965886492,4743.441057380195 L 3221.46368647692,4833.698697084981 L 3085.1249070826034,4561.021138296347 L 3265.640186492175,4470.763498591561 L 3401.978965886492,4743.441057380195 z\" /><path fill-rule=\"evenodd\" fill=\"#66cc99\" stroke=\"#555555\" stroke-width=\"57.848530511155985\" opacity=\"0.6\" d=\"M 3648.2666638378573,4658.393927974652 L 3461.125541461298,4680.575358407101 L 3436.243857977035,4470.652640030403 L 3623.3849803535945,4448.471209597954 L 3648.2666638378573,4658.393927974652 z\" /><path fill-rule=\"evenodd\" fill=\"#66cc99\" stroke=\"#555555\" stroke-width=\"57.848530511155985\" opacity=\"0.6\" d=\"M 3742.5882754624618,4434.342302149939 L 3383.760998383013,4476.873319292111 L 3355.6958074167933,4240.0918658540295 L 3714.523084496242,4197.560848711858 L 3742.5882754624618,4434.342302149939 z\" /><path fill-rule=\"evenodd\" fill=\"#66cc99\" stroke=\"#555555\" stroke-width=\"57.848530511155985\" opacity=\"0.6\" d=\"M 3638.9771764444477,4144.087889034802 L 3346.595308095693,4178.7432763175475 L 3333.3008785261254,4066.5803354025447 L 3625.6827468748797,4031.9249481197994 L 3638.9771764444477,4144.087889034802 z\" /><path fill-rule=\"evenodd\" fill=\"#66cc99\" stroke=\"#555555\" stroke-width=\"57.848530511155985\" opacity=\"0.6\" d=\"M 3598.9709488948956,3815.9296634253815 L 3617.2803151349262,3970.4028097176233 L 3194.8136678024985,4020.4768630781573 L 3176.5043015624674,3866.0037167859155 L 3598.9709488948956,3815.9296634253815 z\" /><path fill-rule=\"evenodd\" fill=\"#66cc99\" stroke=\"#555555\" stroke-width=\"57.848530511155985\" opacity=\"0.6\" d=\"M 3553.635503687705,3758.3706850174112 L 3560.9914129146314,3820.431295266125 L 3165.6467202566655,3867.2906422961432 L 3158.290811029739,3805.2300320474296 L 3553.635503687705,3758.3706850174112 z\" /><path fill-rule=\"evenodd\" fill=\"#66cc99\" stroke=\"#555555\" stroke-width=\"57.848530511155985\" opacity=\"0.6\" d=\"M 3585.218932674401,3529.8501230041757 L 3491.540110154549,3715.811355641488 L 3367.901057137317,3653.527616499398 L 3461.579879657169,3467.566383862086 L 3585.218932674401,3529.8501230041757 z\" /><path fill-rule=\"evenodd\" fill=\"#66cc99\" stroke=\"#555555\" stroke-width=\"57.848530511155985\" opacity=\"0.6\" d=\"M 3406.511952769305,3446.5577554279334 L 3306.5805951760585,3644.93085552985 L 3264.949400276988,3623.95895045625 L 3364.8807578702344,3425.585850354333 L 3406.511952769305,3446.5577554279334 z\" /><path fill-rule=\"evenodd\" fill=\"#66cc99\" stroke=\"#555555\" stroke-width=\"57.848530511155985\" opacity=\"0.6\" d=\"M 3203.09569981646,3493.0662136697993 L 2963.8714128787533,3536.7413259549144 L 2927.4948897067306,3337.494034722057 L 3166.7191766444375,3293.818922436942 L 3203.09569981646,3493.0662136697993 z\" /><path fill-rule=\"evenodd\" fill=\"#66cc99\" stroke=\"#555555\" stroke-width=\"57.848530511155985\" opacity=\"0.6\" d=\"M 2961.4485919092003,3523.47066473634 L 2524.868123330952,3603.1770408352204 L 2495.9592600948727,3444.8328069684703 L 2932.5397286731204,3365.12643086959 L 2961.4485919092003,3523.47066473634 z\" /><path fill-rule=\"evenodd\" fill=\"#66cc99\" stroke=\"#555555\" stroke-width=\"57.848530511155985\" opacity=\"0.6\" d=\"M 2466.6020867820184,3622.796925119242 L 2435.8786578157296,3628.4060930973906 L 2404.5662879302595,3456.8969894852085 L 2435.2897168965487,3451.28782150706 L 2466.6020867820184,3622.796925119242 z\" /><path fill-rule=\"evenodd\" fill=\"#66cc99\" stroke=\"#555555\" stroke-width=\"57.848530511155985\" opacity=\"0.6\" d=\"M 2424.618914116317,3439.9941155461715 L 2281.1531819722027,3511.726981618228 L 2253.848180696842,3457.1169790675062 L 2397.3139128409557,3385.38411299545 L 2424.618914116317,3439.9941155461715 z\" /><path fill-rule=\"evenodd\" fill=\"#66cc99\" stroke=\"#555555\" stroke-width=\"57.848530511155985\" opacity=\"0.6\" d=\"M 2594.9964197596432,4823.727245417396 L 2760.2063182852035,4998.6510818076 L 2575.002884290293,5173.56972736389 L 2409.7929857647327,4998.645890973686 L 2594.9964197596432,4823.727245417396 z\" /><path fill-rule=\"evenodd\" fill=\"#66cc99\" stroke=\"#555555\" stroke-width=\"57.848530511155985\" opacity=\"0.6\" d=\"M 2590.7197003921224,4739.842532954276 L 2396.264455610144,4923.499214177127 L 2310.7017705454646,4832.905652550764 L 2505.1570153274433,4649.248971327913 L 2590.7197003921224,4739.842532954276 z\" /><path fill-rule=\"evenodd\" fill=\"#66cc99\" stroke=\"#555555\" stroke-width=\"57.848530511155985\" opacity=\"0.6\" d=\"M 2471.047847497716,4681.463975710563 L 2219.71476122308,4918.839936222448 L 2081.033428630505,4772.004480542741 L 2332.366514905141,4534.628520030856 L 2471.047847497716,4681.463975710563 z\" /><path fill-rule=\"evenodd\" fill=\"#66cc99\" stroke=\"#555555\" stroke-width=\"57.848530511155985\" opacity=\"0.6\" d=\"M 2341.1352875606162,4381.416306880881 L 2413.4823705338836,4458.017221343439 L 2235.213670128611,4626.386235607112 L 2162.8665871553435,4549.7853211445545 L 2341.1352875606162,4381.416306880881 z\" /><path fill-rule=\"evenodd\" fill=\"#66cc99\" stroke=\"#555555\" stroke-width=\"57.848530511155985\" opacity=\"0.6\" d=\"M 2289.8223326194657,4429.8797310420305 L 2120.0893541056644,4590.187032410347 L 2017.8649878105448,4481.952123458247 L 2187.597966324346,4321.644822089931 L 2289.8223326194657,4429.8797310420305 z\" /><path fill-rule=\"evenodd\" fill=\"#66cc99\" stroke=\"#555555\" stroke-width=\"57.848530511155985\" opacity=\"0.6\" d=\"M 2181.416435503168,4327.483077760366 L 1896.3195878840934,4596.747817415607 L 1847.681044817461,4545.249447005742 L 2132.7778924365357,4275.984707350501 L 2181.416435503168,4327.483077760366 z\" /><path fill-rule=\"evenodd\" fill=\"#66cc99\" stroke=\"#555555\" stroke-width=\"57.848530511155985\" opacity=\"0.6\" d=\"M 1793.3372253619973,4188.872817973861 L 2013.500936683721,4094.516941693123 L 2081.157972925405,4252.383359590386 L 1860.9942616036813,4346.739235871124 L 1793.3372253619973,4188.872817973861 z\" /><path fill-rule=\"evenodd\" fill=\"#66cc99\" stroke=\"#555555\" stroke-width=\"57.848530511155985\" opacity=\"0.6\" d=\"M 1585.8166331622576,4516.064695051186 L 1452.4768349806163,4204.938499294022 L 1746.2619804359795,4079.030579813153 L 1879.6017786176208,4390.156775570317 L 1585.8166331622576,4516.064695051186 z\" /><path fill-rule=\"evenodd\" fill=\"#66cc99\" stroke=\"#555555\" stroke-width=\"57.848530511155985\" opacity=\"0.6\" d=\"M 1577.0885466137859,4648.5662339978435 L 1257.7581158199378,4785.422132909493 L 1113.6712602409889,4449.219469891945 L 1433.001691034837,4312.363570980296 L 1577.0885466137859,4648.5662339978435 z\" /><path fill-rule=\"evenodd\" fill=\"#66cc99\" stroke=\"#555555\" stroke-width=\"57.848530511155985\" opacity=\"0.6\" d=\"M 1114.7785071883336,4451.803046102417 L 1231.6328914068777,4724.463275945686 L 985.346778662921,4830.014467121668 L 868.4923944443769,4557.354237278399 L 1114.7785071883336,4451.803046102417 z\" /><path fill-rule=\"evenodd\" fill=\"#66cc99\" stroke=\"#555555\" stroke-width=\"57.848530511155985\" opacity=\"0.6\" d=\"M 869.8514791214388,4574.999618660036 L 714.1043744204067,4769.683499536324 L 651.1773395710316,4719.341871656825 L 806.9244442720637,4524.657990780535 L 869.8514791214388,4574.999618660036 z\" /><path fill-rule=\"evenodd\" fill=\"#66cc99\" stroke=\"#555555\" stroke-width=\"57.848530511155985\" opacity=\"0.6\" d=\"M 1458.1743938702264,4954.800984219524 L 1258.1068178328337,5204.885454266266 L 997.0123314189418,4996.009865135153 L 1197.0799074563345,4745.925395088411 L 1458.1743938702264,4954.800984219524 z\" /><path fill-rule=\"evenodd\" fill=\"#66cc99\" stroke=\"#555555\" stroke-width=\"57.848530511155985\" opacity=\"0.6\" d=\"M 1438.8394177525836,4978.96970436658 L 1546.244854031551,5064.894053389755 L 1414.1022975552673,5230.07224898511 L 1306.6968612762998,5144.147899961936 L 1438.8394177525836,4978.96970436658 z\" /><path fill-rule=\"evenodd\" fill=\"#66cc99\" stroke=\"#555555\" stroke-width=\"57.848530511155985\" opacity=\"0.6\" d=\"M 1667.343840291324,5147.610311895591 L 1523.592456014355,5327.299542241803 L 1457.5649354651453,5274.477525802435 L 1601.3163197421143,5094.788295456223 L 1667.343840291324,5147.610311895591 z\" /><path fill-rule=\"evenodd\" fill=\"#66cc99\" stroke=\"#555555\" stroke-width=\"57.848530511155985\" opacity=\"0.6\" d=\"M 1748.503410244588,5157.087061784417 L 1613.0573097089139,5326.394687454009 L 1558.946962230668,5283.106409471413 L 1694.3930627663422,5113.79878380182 L 1748.503410244588,5157.087061784417 z\" /><path fill-rule=\"evenodd\" fill=\"#66cc99\" stroke=\"#555555\" stroke-width=\"57.848530511155985\" opacity=\"0.6\" d=\"M 1809.3603362845147,5482.048460698204 L 1735.4914515361843,5518.982903072369 L 1664.4645853347783,5376.929170669555 L 1738.3334700831088,5339.99472829539 L 1809.3603362845147,5482.048460698204 z\" /><path fill-rule=\"evenodd\" fill=\"#66cc99\" stroke=\"#555555\" stroke-width=\"57.848530511155985\" opacity=\"0.6\" d=\"M 1933.555507027836,5561.2222464860815 L 1865.8688847483304,5595.065557625834 L 1757.065207787236,5377.458203703643 L 1824.7518300667416,5343.614892563891 L 1933.555507027836,5561.2222464860815 z\" /><path fill-rule=\"evenodd\" fill=\"#66cc99\" stroke=\"#555555\" stroke-width=\"57.848530511155985\" opacity=\"0.6\" d=\"M 2151.50937896964,5346.948478911778 L 1947.2136421900536,5449.096347301571 L 1778.1995856107515,5111.0682341429665 L 1982.4953223903376,5008.920365753173 L 2151.50937896964,5346.948478911778 z\" /><path fill-rule=\"evenodd\" fill=\"#66cc99\" stroke=\"#555555\" stroke-width=\"57.848530511155985\" opacity=\"0.6\" d=\"M 2308.6087072222354,5373.695646388882 L 2193.628111611001,5431.185944194499 L 2059.248367688116,5162.426456348729 L 2174.2289632993507,5104.936158543112 L 2308.6087072222354,5373.695646388882 z\" /><path fill-rule=\"evenodd\" fill=\"#66cc99\" stroke=\"#555555\" stroke-width=\"57.848530511155985\" opacity=\"0.6\" d=\"M 2540.7886212531826,5257.6056893734085 L 2365.155623479559,5345.4221882602205 L 2259.4024317849894,5133.915804871082 L 2435.035429558613,5046.09930598427 L 2540.7886212531826,5257.6056893734085 z\" /><path fill-rule=\"evenodd\" fill=\"#66cc99\" stroke=\"#555555\" stroke-width=\"57.848530511155985\" opacity=\"0.6\" d=\"M 3287.489668064989,2144.1788886660784 L 3589.198100397571,2182.6733722216068 L 3553.3343573905368,2463.7628344200675 L 3251.6259250579546,2425.268350864539 L 3287.489668064989,2144.1788886660784 z\" /><path fill-rule=\"evenodd\" fill=\"#66cc99\" stroke=\"#555555\" stroke-width=\"57.848530511155985\" opacity=\"0.6\" d=\"M 3584.9341472326764,2467.7945997274937 L 3559.4643347766732,2667.419493430008 L 3226.1561126019515,2624.8932445670534 L 3251.6259250579546,2425.268350864539 L 3584.9341472326764,2467.7945997274937 z\" /><path fill-rule=\"evenodd\" fill=\"#66cc99\" stroke=\"#555555\" stroke-width=\"57.848530511155985\" opacity=\"0.6\" d=\"M 3486.9199306128003,2658.1636720015454 L 3479.203484209715,2718.642907788535 L 3218.4396661988662,2685.3724803540426 L 3226.1561126019515,2624.8932445670534 L 3486.9199306128003,2658.1636720015454 z\" /><path fill-rule=\"evenodd\" fill=\"#66cc99\" stroke=\"#555555\" stroke-width=\"57.848530511155985\" opacity=\"0.6\" d=\"M 3319.7805591293736,2757.4043700828506 L 3654.195931818738,2800.0718784623177 L 3643.9039848541524,2880.7371296237206 L 3309.4886121647883,2838.0696212442535 L 3319.7805591293736,2757.4043700828506 z\" /><path fill-rule=\"evenodd\" fill=\"#66cc99\" stroke=\"#555555\" stroke-width=\"57.848530511155985\" opacity=\"0.6\" d=\"M 3542.036516141152,2927.9892899290326 L 3538.21377013017,2957.9508480446348 L 3294.981588170162,2926.917253271542 L 3298.804334181144,2896.95569515594 L 3542.036516141152,2927.9892899290326 z\" /><path fill-rule=\"evenodd\" fill=\"#66cc99\" stroke=\"#555555\" stroke-width=\"57.848530511155985\" opacity=\"0.6\" d=\"M 3425.985033893956,3013.496445832301 L 3342.351151892772,3179.517531162316 L 3202.4635096533057,3109.04849079179 L 3286.0973916544895,2943.027405461775 L 3425.985033893956,3013.496445832301 z\" /><path fill-rule=\"evenodd\" fill=\"#66cc99\" stroke=\"#555555\" stroke-width=\"57.848530511155985\" opacity=\"0.6\" d=\"M 3924.2546174847002,3199.3795660610467 L 3581.6030981055937,3345.6288276741825 L 3503.379236687163,3162.3559367817306 L 3846.0307560662695,3016.106675168595 L 3924.2546174847002,3199.3795660610467 z\" /><path fill-rule=\"evenodd\" fill=\"#66cc99\" stroke=\"#555555\" stroke-width=\"57.848530511155985\" opacity=\"0.6\" d=\"M 3774.792989577013,2849.2017030991483 L 3981.3813054506713,2761.0264377182402 L 4125.199930747804,3097.983150726698 L 3918.611614874145,3186.158416107606 L 3774.792989577013,2849.2017030991483 z\" /><path fill-rule=\"evenodd\" fill=\"#66cc99\" stroke=\"#555555\" stroke-width=\"57.848530511155985\" opacity=\"0.6\" d=\"M 4266.341316419209,2860.536312545012 L 4346.556851936863,3048.4755528513315 L 4195.067073641214,3113.1338630138607 L 4114.851538123561,2925.1946227075405 L 4266.341316419209,2860.536312545012 z\" /><path fill-rule=\"evenodd\" fill=\"#66cc99\" stroke=\"#555555\" stroke-width=\"57.848530511155985\" opacity=\"0.6\" d=\"M 4374.177460766681,2742.9089259804055 L 4477.697079608686,2985.447960301058 L 4399.90734979809,3018.6498867553755 L 4296.387730956085,2776.110852434723 L 4374.177460766681,2742.9089259804055 z\" /><path fill-rule=\"evenodd\" fill=\"#66cc99\" stroke=\"#555555\" stroke-width=\"57.848530511155985\" opacity=\"0.6\" d=\"M 4479.956138570145,2990.74077324912 L 4350.94571756161,2688.4786196715704 L 4407.901830647261,2664.1688209051026 L 4536.912251655796,2966.4309744826523 L 4479.956138570145,2990.74077324912 z\" /><path fill-rule=\"evenodd\" fill=\"#66cc99\" stroke=\"#555555\" stroke-width=\"57.848530511155985\" opacity=\"0.6\" d=\"M 4783.635599744248,2637.1089179452383 L 4919.773043329767,2693.6311749699344 L 4826.771894545932,2917.6303447202845 L 4690.634450960413,2861.1080876955884 L 4783.635599744248,2637.1089179452383 z\" /><path fill-rule=\"evenodd\" fill=\"#66cc99\" stroke=\"#555555\" stroke-width=\"57.848530511155985\" opacity=\"0.6\" d=\"M 4611.876538444978,2565.7970910636104 L 4728.291049827331,2614.1306777716964 L 4613.239920493181,2891.238625218568 L 4496.825409110827,2842.905038510482 L 4611.876538444978,2565.7970910636104 z\" /><path fill-rule=\"evenodd\" fill=\"#66cc99\" stroke=\"#555555\" stroke-width=\"57.848530511155985\" opacity=\"0.6\" d=\"M 4348.014100981392,2566.045770027473 L 4268.887799814831,2756.626488636905 L 4111.723528309356,2691.374203041053 L 4190.849829475917,2500.793484431621 L 4348.014100981392,2566.045770027473 z\" /><path fill-rule=\"evenodd\" fill=\"#66cc99\" stroke=\"#555555\" stroke-width=\"57.848530511155985\" opacity=\"0.6\" d=\"M 4229.734475152621,2407.137347259989 L 4068.106321191057,2796.4290148266227 L 3858.46471560375,2709.3889147484088 L 4020.0928695653142,2320.097247181775 L 4229.734475152621,2407.137347259989 z\" /><path fill-rule=\"evenodd\" fill=\"#66cc99\" stroke=\"#555555\" stroke-width=\"57.848530511155985\" opacity=\"0.6\" d=\"M 3933.67162990055,2364.6632065070044 L 3846.244293568976,2575.2374951889205 L 3641.205586198151,2490.1084505058893 L 3728.6329225297254,2279.5341618239736 L 3933.67162990055,2364.6632065070044 z\" /><path fill-rule=\"evenodd\" fill=\"#66cc99\" stroke=\"#555555\" stroke-width=\"57.848530511155985\" opacity=\"0.6\" d=\"M 4064.856334984688,4562.170174242755 L 4180.716954155902,4789.104345456332 L 3981.2419297370316,4890.945772486783 L 3865.3813105658173,4664.011601273206 L 4064.856334984688,4562.170174242755 z\" /><path fill-rule=\"evenodd\" fill=\"#66cc99\" stroke=\"#555555\" stroke-width=\"57.848530511155985\" opacity=\"0.6\" d=\"M 4336.724107282568,4709.455320984902 L 4180.716954155903,4789.104345456331 L 4046.0196530697813,4525.275094367025 L 4202.026806196446,4445.626069895596 L 4336.724107282568,4709.455320984902 z\" /><path fill-rule=\"evenodd\" fill=\"#66cc99\" stroke=\"#555555\" stroke-width=\"57.848530511155985\" opacity=\"0.6\" d=\"M 4391.0446520038,4320.560366024794 L 4497.103474160383,4528.295928618542 L 4349.698528453631,4603.553119667175 L 4243.63970629705,4395.817557073427 L 4391.0446520038,4320.560366024794 z\" /><path fill-rule=\"evenodd\" fill=\"#66cc99\" stroke=\"#555555\" stroke-width=\"57.848530511155985\" opacity=\"0.6\" d=\"M 4526.290401072635,4170.724237844156 L 4757.2583149127495,4176.0763172714915 L 4750.695089709341,4459.310984072513 L 4519.727175869227,4453.958904645177 L 4526.290401072635,4170.724237844156 z\" /><path fill-rule=\"evenodd\" fill=\"#66cc99\" stroke=\"#555555\" stroke-width=\"57.848530511155985\" opacity=\"0.6\" d=\"M 4835.258200848034,3948.3308938927544 L 4829.941766144765,4177.760566817581 L 4506.016189322588,4170.254435827898 L 4511.332624025857,3940.8247629030716 L 4835.258200848034,3948.3308938927544 z\" /><path fill-rule=\"evenodd\" fill=\"#66cc99\" stroke=\"#555555\" stroke-width=\"57.848530511155985\" opacity=\"0.6\" d=\"M 4836.77231247364,3882.9897104825964 L 4835.258200848034,3948.3308938927544 L 4582.646855775725,3942.477284356283 L 4584.160967401332,3877.1361009461248 L 4836.77231247364,3882.9897104825964 z\" /><path fill-rule=\"evenodd\" fill=\"#66cc99\" stroke=\"#555555\" stroke-width=\"57.848530511155985\" opacity=\"0.6\" d=\"M 4568.680032748729,3675.284449562738 L 4734.575657963294,3679.1286483002755 L 4731.383807915723,3816.8722966871997 L 4565.488182701158,3813.028097949662 L 4568.680032748729,3675.284449562738 z\" /><path fill-rule=\"evenodd\" fill=\"#66cc99\" stroke=\"#555555\" stroke-width=\"57.848530511155985\" opacity=\"0.6\" d=\"M 4773.698336706163,3531.886211223067 L 4771.623604790239,3621.4208507784615 L 4461.815874997589,3614.241864098083 L 4463.890606913513,3524.707224542689 L 4773.698336706163,3531.886211223067 z\" /><path fill-rule=\"evenodd\" fill=\"#66cc99\" stroke=\"#555555\" stroke-width=\"57.848530511155985\" opacity=\"0.6\" d=\"M 4365.290686229794,3359.833499344435 L 4756.661318950514,3368.9024937212816 L 4754.280580504193,3471.6427836985526 L 4362.9099477834725,3462.573789321706 L 4365.290686229794,3359.833499344435 z\" /><path fill-rule=\"evenodd\" fill=\"#66cc99\" stroke=\"#555555\" stroke-width=\"57.848530511155985\" opacity=\"0.6\" d=\"M 4850.440102463759,3293.158975778054 L 4848.635557375813,3371.0337569826434 L 4498.537618217464,3362.9211497093265 L 4500.34216330541,3285.046368504737 L 4850.440102463759,3293.158975778054 z\" /><path fill-rule=\"evenodd\" fill=\"#66cc99\" stroke=\"#555555\" stroke-width=\"57.848530511155985\" opacity=\"0.6\" d=\"M 4751.4099391758145,2968.8231972717012 L 4844.280600150251,3186.412487895336 L 4704.78521780181,3245.951394081624 L 4611.9145568273725,3028.362103457989 L 4751.4099391758145,2968.8231972717012 z\" /><path fill-rule=\"evenodd\" fill=\"#66cc99\" stroke=\"#555555\" stroke-width=\"57.848530511155985\" opacity=\"0.6\" d=\"M 4611.9145568273725,3028.362103457989 L 4705.290394516431,3247.134986852696 L 4618.52935867143,3284.1660131622084 L 4525.153520982371,3065.3931297675017 L 4611.9145568273725,3028.362103457989 z\" /><path fill-rule=\"evenodd\" fill=\"#66cc99\" stroke=\"#555555\" stroke-width=\"57.848530511155985\" opacity=\"0.6\" d=\"M 4250.436895484396,3182.646669762694 L 4341.731955192427,3396.544439746054 L 4280.917379538687,3422.501093318734 L 4189.622319830656,3208.6033233353737 L 4250.436895484396,3182.646669762694 z\" /><path fill-rule=\"evenodd\" fill=\"#66cc99\" stroke=\"#555555\" stroke-width=\"57.848530511155985\" opacity=\"0.6\" d=\"M 4230.897237675354,3305.307492339283 L 4356.611971122491,3599.848086588216 L 4117.5003578587075,3701.9048261769403 L 3991.7856244115706,3407.364231928007 L 4230.897237675354,3305.307492339283 z\" /><path fill-rule=\"evenodd\" fill=\"#66cc99\" stroke=\"#555555\" stroke-width=\"57.848530511155985\" opacity=\"0.6\" d=\"M 4068.770614246915,3587.7345356512833 L 4020.733781855445,3608.2374398269794 L 3933.9041164630635,3404.801768113429 L 3981.940948854534,3384.2988639377327 L 4068.770614246915,3587.7345356512833 z\" /><path fill-rule=\"evenodd\" fill=\"#66cc99\" stroke=\"#555555\" stroke-width=\"57.848530511155985\" opacity=\"0.6\" d=\"M 3935.04734498263,3502.5856212551394 L 3713.5150648373724,3528.843360859245 L 3702.995787716846,3440.0939299818924 L 3924.5280678621034,3413.836190377787 L 3935.04734498263,3502.5856212551394 z\" /><path fill-rule=\"evenodd\" fill=\"#66cc99\" stroke=\"#555555\" stroke-width=\"57.848530511155985\" opacity=\"0.6\" d=\"M 3883.3502474795587,3628.3407905668723 L 3650.3283569205323,3655.960368717484 L 3636.345596251356,3537.990090221622 L 3869.367486810382,3510.37051207101 L 3883.3502474795587,3628.3407905668723 z\" /><path fill-rule=\"evenodd\" fill=\"#66cc99\" stroke=\"#555555\" stroke-width=\"57.848530511155985\" opacity=\"0.6\" d=\"M 3991.60099738801,3874.217710720822 L 3802.6828488401775,3896.609768202495 L 3779.2547375725508,3698.950602300696 L 3968.1728861203833,3676.558544819023 L 3991.60099738801,3874.217710720822 z\" /><path fill-rule=\"evenodd\" fill=\"#66cc99\" stroke=\"#555555\" stroke-width=\"57.848530511155985\" opacity=\"0.6\" d=\"M 4054.633644480979,4000.1637454418806 L 3819.038001843032,4028.088384831647 L 3803.443441766438,3896.519616776305 L 4039.039084404385,3868.5949773865386 L 4054.633644480979,4000.1637454418806 z\" /><path fill-rule=\"evenodd\" fill=\"#66cc99\" stroke=\"#555555\" stroke-width=\"57.848530511155985\" opacity=\"0.6\" d=\"M 4140.2895609763045,3990.0111358564495 L 4164.340163333568,4192.922157879019 L 3720.2127480348654,4245.5636149809425 L 3696.1621456776015,4042.652592958372 L 4140.2895609763045,3990.0111358564495 z\" /><path fill-rule=\"evenodd\" fill=\"#66cc99\" stroke=\"#555555\" stroke-width=\"57.848530511155985\" opacity=\"0.6\" d=\"M 4058.7012838113083,4303.431617635151 L 3845.664113785829,4328.682450303224 L 3841.0036522783653,4289.362894246835 L 4054.0408223038444,4264.112061578762 L 4058.7012838113083,4303.431617635151 z\" /></g></g></svg>"
      ],
      "text/plain": [
       "<shapely.geometry.multipolygon.MultiPolygon at 0x1623a7c0ac0>"
      ]
     },
     "execution_count": 28,
     "metadata": {},
     "output_type": "execute_result"
    }
   ],
   "source": [
    "buildings = []\n",
    "list_neighborhoods = []\n",
    "for district in tqdm(list(polys)):\n",
    "    neighborhood = poly_to_multi_line_string(district)\n",
    "    buildings.extend(scatter_buildings(neighborhood))\n",
    "#     neighborhoods, alleys = construct_streets(district, num_minor_points)\n",
    "#     list_neighborhoods.extend(list(neighborhoods))\n",
    "# for district in tqdm(list(polys)):\n",
    "#     neighborhoods, alleys = construct_streets(district, num_minor_points)\n",
    "#     list_neighborhoods.extend(list(neighborhoods))\n",
    "#     boundry = poly_to_multi_line_string(district).buffer(2, single_sided=True)\n",
    "#     last_remainder = None\n",
    "for subpoly in tqdm(list_neighborhoods):\n",
    "    neighborhood = poly_to_multi_line_string(subpoly)\n",
    "    buildings.extend(scatter_buildings(neighborhood))\n",
    "    \n",
    "MultiPolygon(buildings)"
   ]
  },
  {
   "cell_type": "code",
   "execution_count": 29,
   "id": "bc5491e7",
   "metadata": {},
   "outputs": [
    {
     "data": {
      "text/plain": [
       "188"
      ]
     },
     "execution_count": 29,
     "metadata": {},
     "output_type": "execute_result"
    }
   ],
   "source": [
    "len(buildings)"
   ]
  },
  {
   "cell_type": "code",
   "execution_count": 30,
   "id": "06d1b3db",
   "metadata": {},
   "outputs": [
    {
     "data": {
      "text/plain": [
       "'MultiLineString'"
      ]
     },
     "execution_count": 30,
     "metadata": {},
     "output_type": "execute_result"
    }
   ],
   "source": [
    "polys.boundary.geom_type"
   ]
  },
  {
   "cell_type": "code",
   "execution_count": 31,
   "id": "3bacb3dc",
   "metadata": {},
   "outputs": [],
   "source": [
    "def parameterize_roof(poly):\n",
    "    edge = MultiLineString(list(itertools.pairwise(list((poly.boundary).coords))))\n",
    "    short_ind = np.argmin([ls.length for ls in edge])\n",
    "    short_cent = edge[short_ind].centroid\n",
    "    full_cent = poly.centroid\n",
    "    return np.asarray(short_cent), (np.asarray(full_cent)-np.asarray(short_cent))*2+np.asarray(short_cent), edge[short_ind].length/2\n"
   ]
  },
  {
   "cell_type": "code",
   "execution_count": 32,
   "id": "6b03f093",
   "metadata": {},
   "outputs": [
    {
     "name": "stderr",
     "output_type": "stream",
     "text": [
      "C:\\Users\\Stephen\\AppData\\Local\\Temp\\ipykernel_19020\\3618889555.py:3: ShapelyDeprecationWarning: Iteration over multi-part geometries is deprecated and will be removed in Shapely 2.0. Use the `geoms` property to access the constituent parts of a multi-part geometry.\n",
      "  short_ind = np.argmin([ls.length for ls in edge])\n",
      "C:\\Users\\Stephen\\AppData\\Local\\Temp\\ipykernel_19020\\3618889555.py:4: ShapelyDeprecationWarning: __getitem__ for multi-part geometries is deprecated and will be removed in Shapely 2.0. Use the `geoms` property to access the constituent parts of a multi-part geometry.\n",
      "  short_cent = edge[short_ind].centroid\n",
      "C:\\Users\\Stephen\\AppData\\Local\\Temp\\ipykernel_19020\\2461167594.py:1: ShapelyDeprecationWarning: The array interface is deprecated and will no longer work in Shapely 2.0. Convert the '.coords' to a numpy array instead.\n",
      "  parameterize_roof(buildings[0])\n",
      "C:\\Users\\Stephen\\AppData\\Local\\Temp\\ipykernel_19020\\3618889555.py:6: ShapelyDeprecationWarning: __getitem__ for multi-part geometries is deprecated and will be removed in Shapely 2.0. Use the `geoms` property to access the constituent parts of a multi-part geometry.\n",
      "  return np.asarray(short_cent), (np.asarray(full_cent)-np.asarray(short_cent))*2+np.asarray(short_cent), edge[short_ind].length/2\n"
     ]
    },
    {
     "data": {
      "text/plain": [
       "(array([3241.51011   , 2104.83882264]),\n",
       " array([3150.48239947, 1945.54032921]),\n",
       " 22.48070643170652)"
      ]
     },
     "execution_count": 32,
     "metadata": {},
     "output_type": "execute_result"
    }
   ],
   "source": [
    "parameterize_roof(buildings[0])"
   ]
  },
  {
   "cell_type": "code",
   "execution_count": 33,
   "id": "3b848e4e",
   "metadata": {},
   "outputs": [],
   "source": [
    "def make_roof(poly, node):\n",
    "    p1, p2, width = parameterize_roof(poly)\n",
    "    return {\"position\": \"Vector2( 0, 0 )\",\n",
    "           \"rotation\": 0,\n",
    "           \"scale\": \"Vector2(1, 1)\",\n",
    "           \"points\": f\"PoolVector2Array( {p1[0]}, {p1[1]}, {p2[0]}, {p2[1]} )\",\n",
    "           \"texture\": \"res://textures/roofs/flat_clay_red/tiles.png\",\n",
    "           \"width\": width,\n",
    "           \"type\": 1,\n",
    "           \"node_id\": node}\n",
    "def make_path(mls, node):\n",
    "    coords = np.asarray(l)\n",
    "    pos = coords[0]\n",
    "    ed_pts = coords - pos\n",
    "    return {\n",
    "        \"position\": f\"Vector2( {pos[0]}, {pos[1]} )\",\n",
    "        \"rotation\": 0,\n",
    "        \"scale\": \"Vector2( 1, 1 )\",\n",
    "        \"edit_points\": f\"PoolVector2Array( {', '.join(ed_pts.flatten().astype('str'))} )\",\n",
    "        \"smoothness\": 1,\n",
    "        \"texture\": \"res://textures/paths/wagon_trail.png\",\n",
    "        \"width\": 320,\n",
    "        \"layer\": 100,\n",
    "        \"fade_in\": False,\n",
    "        \"fade_out\": False,\n",
    "        \"grow\": False,\n",
    "        \"shrink\": False,\n",
    "        \"loop\": False,\n",
    "        \"node_id\": node\n",
    "    }"
   ]
  },
  {
   "cell_type": "code",
   "execution_count": 34,
   "id": "1a25fcf5",
   "metadata": {},
   "outputs": [
    {
     "name": "stderr",
     "output_type": "stream",
     "text": [
      "C:\\Users\\Stephen\\AppData\\Local\\Temp\\ipykernel_19020\\3618889555.py:3: ShapelyDeprecationWarning: Iteration over multi-part geometries is deprecated and will be removed in Shapely 2.0. Use the `geoms` property to access the constituent parts of a multi-part geometry.\n",
      "  short_ind = np.argmin([ls.length for ls in edge])\n",
      "C:\\Users\\Stephen\\AppData\\Local\\Temp\\ipykernel_19020\\3618889555.py:4: ShapelyDeprecationWarning: __getitem__ for multi-part geometries is deprecated and will be removed in Shapely 2.0. Use the `geoms` property to access the constituent parts of a multi-part geometry.\n",
      "  short_cent = edge[short_ind].centroid\n",
      "C:\\Users\\Stephen\\AppData\\Local\\Temp\\ipykernel_19020\\3286298110.py:2: ShapelyDeprecationWarning: The array interface is deprecated and will no longer work in Shapely 2.0. Convert the '.coords' to a numpy array instead.\n",
      "  p1, p2, width = parameterize_roof(poly)\n",
      "C:\\Users\\Stephen\\AppData\\Local\\Temp\\ipykernel_19020\\3618889555.py:6: ShapelyDeprecationWarning: __getitem__ for multi-part geometries is deprecated and will be removed in Shapely 2.0. Use the `geoms` property to access the constituent parts of a multi-part geometry.\n",
      "  return np.asarray(short_cent), (np.asarray(full_cent)-np.asarray(short_cent))*2+np.asarray(short_cent), edge[short_ind].length/2\n"
     ]
    }
   ],
   "source": [
    "dc_roofs = []\n",
    "for building in buildings:\n",
    "    r = make_roof(building, next(next_node))\n",
    "    dc_roofs.append(r)"
   ]
  },
  {
   "cell_type": "code",
   "execution_count": 35,
   "id": "1a2f6acc",
   "metadata": {},
   "outputs": [
    {
     "data": {
      "text/plain": [
       "{'position': 'Vector2( 0, 0 )',\n",
       " 'rotation': 0,\n",
       " 'scale': 'Vector2(1, 1)',\n",
       " 'points': 'PoolVector2Array( 2424.856163940241, 3342.937494692469, 2375.927428865048, 3074.937227567423 )',\n",
       " 'texture': 'res://textures/roofs/flat_clay_red/tiles.png',\n",
       " 'width': 69.47785379422318,\n",
       " 'type': 1,\n",
       " 'node_id': '6'}"
      ]
     },
     "execution_count": 35,
     "metadata": {},
     "output_type": "execute_result"
    }
   ],
   "source": [
    "dc_roofs[5]"
   ]
  },
  {
   "cell_type": "code",
   "execution_count": 36,
   "id": "498c69da",
   "metadata": {},
   "outputs": [
    {
     "name": "stderr",
     "output_type": "stream",
     "text": [
      "C:\\Users\\Stephen\\AppData\\Local\\Temp\\ipykernel_19020\\2594205356.py:2: ShapelyDeprecationWarning: Iteration over multi-part geometries is deprecated and will be removed in Shapely 2.0. Use the `geoms` property to access the constituent parts of a multi-part geometry.\n",
      "  for l in polys.boundary:\n",
      "C:\\Users\\Stephen\\AppData\\Local\\Temp\\ipykernel_19020\\2594205356.py:3: ShapelyDeprecationWarning: The array interface is deprecated and will no longer work in Shapely 2.0. Convert the '.coords' to a numpy array instead.\n",
      "  s = make_path(l, next(next_node))\n"
     ]
    }
   ],
   "source": [
    "dc_paths = []\n",
    "for l in polys.boundary:\n",
    "    s = make_path(l, next(next_node))\n",
    "    dc_paths.append(s)"
   ]
  },
  {
   "cell_type": "code",
   "execution_count": 42,
   "id": "eebb7a23",
   "metadata": {},
   "outputs": [
    {
     "data": {
      "text/plain": [
       "{'position': 'Vector2( 3233.9106680400846, 1809.1939039770946 )',\n",
       " 'rotation': 0,\n",
       " 'scale': 'Vector2( 1, 1 )',\n",
       " 'edit_points': 'PoolVector2Array( 0.0, 0.0, 69.11872761112681, 213.18917355278472, 1797.3434359454832, 930.7225617829126, 3813.916007824976, -354.55960643630306, 3678.0893319599154, -529.1939039770946, 1374.0893319599154, -785.1939039770946, 0.0, 0.0 )',\n",
       " 'smoothness': 1,\n",
       " 'texture': 'res://textures/paths/wagon_trail.png',\n",
       " 'width': 320,\n",
       " 'layer': 100,\n",
       " 'fade_in': False,\n",
       " 'fade_out': False,\n",
       " 'grow': False,\n",
       " 'shrink': False,\n",
       " 'loop': False,\n",
       " 'node_id': 'be'}"
      ]
     },
     "execution_count": 42,
     "metadata": {},
     "output_type": "execute_result"
    }
   ],
   "source": [
    "dc_paths[1]"
   ]
  },
  {
   "cell_type": "code",
   "execution_count": 43,
   "id": "12ac998c",
   "metadata": {},
   "outputs": [],
   "source": [
    "new_map = copy.deepcopy(m)\n",
    "new_map['world']['levels']['0']['roofs']['roofs'].extend(dc_roofs)\n",
    "new_map['world']['levels']['0']['paths'].extend(dc_paths)\n",
    "len(new_map['world']['levels']['0']['roofs']['roofs'])\n",
    "with open('new.dungeondraft_map', 'w') as f:\n",
    "    json.dump(new_map, f, indent='\\t')"
   ]
  },
  {
   "cell_type": "code",
   "execution_count": 38,
   "id": "2fb6b6fb",
   "metadata": {},
   "outputs": [
    {
     "data": {
      "text/plain": [
       "188"
      ]
     },
     "execution_count": 38,
     "metadata": {},
     "output_type": "execute_result"
    }
   ],
   "source": [
    "len(new_map['world']['levels']['0']['roofs']['roofs'])"
   ]
  },
  {
   "cell_type": "code",
   "execution_count": 39,
   "id": "f52e0d3a",
   "metadata": {},
   "outputs": [
    {
     "name": "stderr",
     "output_type": "stream",
     "text": [
      "C:\\Users\\Stephen\\AppData\\Local\\Temp\\ipykernel_19020\\1588698053.py:1: ShapelyDeprecationWarning: Iteration over multi-part geometries is deprecated and will be removed in Shapely 2.0. Use the `geoms` property to access the constituent parts of a multi-part geometry.\n",
      "  for l in polys.boundary:\n",
      "C:\\ProgramData\\Anaconda3\\envs\\mapgen\\lib\\site-packages\\IPython\\core\\interactiveshell.py:3251: ShapelyDeprecationWarning: The array interface is deprecated and will no longer work in Shapely 2.0. Convert the '.coords' to a numpy array instead.\n",
      "  exec(code_obj, self.user_global_ns, self.user_ns)\n"
     ]
    },
    {
     "name": "stdout",
     "output_type": "stream",
     "text": [
      "[[    0.             0.        ]\n",
      " [  -69.11872761  -213.18917355]\n",
      " [ -487.02939565    25.61692247]\n",
      " [-1255.02939565   793.61692247]\n",
      " [-1255.02939565  1305.61692247]\n",
      " [-1216.66176874  1382.35217629]\n",
      " [ -151.56185061  1187.89717712]\n",
      " [    0.             0.        ]]\n",
      "[[   0.            0.        ]\n",
      " [  69.11872761  213.18917355]\n",
      " [1797.34343595  930.72256178]\n",
      " [3813.91600782 -354.55960644]\n",
      " [3678.08933196 -529.19390398]\n",
      " [1374.08933196 -785.19390398]\n",
      " [   0.            0.        ]]\n",
      "[[    0.             0.        ]\n",
      " [-2016.57257188  1285.28216822]\n",
      " [-2188.80663485  1468.25915174]\n",
      " [-2224.44813492  3006.36093608]\n",
      " [ 1656.17332413  4043.50413663]\n",
      " [ 1656.17332413  2129.36570246]\n",
      " [    0.             0.        ]]\n",
      "[[    0.             0.        ]\n",
      " [-3880.62145906 -1037.14320055]\n",
      " [-4775.46932584  -580.28107461]\n",
      " [-4352.           901.86156583]\n",
      " [    0.           389.86156583]\n",
      " [    0.             0.        ]]\n",
      "[[   0.            0.        ]\n",
      " [1000.84353288 1059.69068415]\n",
      " [1801.04426719  659.59031699]\n",
      " [1659.40062737 -535.43404419]\n",
      " [1185.04185328 -774.39444889]\n",
      " [ 119.94193515 -579.93944971]\n",
      " [ 337.57430824 -144.67470353]\n",
      " [   0.            0.        ]]\n",
      "[[    0.             0.        ]\n",
      " [-1000.84353288 -1059.69068415]\n",
      " [-2455.26922463  -436.36538768]\n",
      " [-1175.26922463   587.63461232]\n",
      " [    0.             0.        ]]\n",
      "[[   0.            0.        ]\n",
      " [-151.56185061 1187.89717712]\n",
      " [ 322.79692348 1426.85758181]\n",
      " [1555.99064536  900.51037175]\n",
      " [1728.22470833  717.53338823]\n",
      " [   0.            0.        ]]\n",
      "[[    0.             0.        ]\n",
      " [  894.84786678  -456.86212594]\n",
      " [  930.48936685 -1994.96391028]\n",
      " [ -302.70435503 -1468.61670022]\n",
      " [ -161.06071521  -273.59233903]\n",
      " [  -88.53067416  -309.85735956]\n",
      " [    0.             0.        ]]\n"
     ]
    }
   ],
   "source": [
    "for l in polys.boundary:\n",
    "    coords = np.asarray(l)\n",
    "    pos = coords[0]\n",
    "    ed_pts = coords - pos\n",
    "    print(ed_pts)"
   ]
  },
  {
   "cell_type": "code",
   "execution_count": 40,
   "id": "23473d8c",
   "metadata": {},
   "outputs": [
    {
     "data": {
      "text/plain": [
       "'0.0, 0.0, 894.8478667814184, -456.8621259411839, 930.4893668506761, -1994.9639102838682, -302.7043550291105, -1468.616700215518, -161.06071521321383, -273.59233903315, -88.53067415993928, -309.85735955978726, 0.0, 0.0'"
      ]
     },
     "execution_count": 40,
     "metadata": {},
     "output_type": "execute_result"
    }
   ],
   "source": [
    "', '.join(ed_pts.flatten().astype('str'))"
   ]
  },
  {
   "cell_type": "code",
   "execution_count": 57,
   "id": "b8b7c985",
   "metadata": {},
   "outputs": [
    {
     "name": "stderr",
     "output_type": "stream",
     "text": [
      "C:\\Users\\Stephen\\AppData\\Local\\Temp\\ipykernel_19020\\3569356785.py:1: ShapelyDeprecationWarning: __getitem__ for multi-part geometries is deprecated and will be removed in Shapely 2.0. Use the `geoms` property to access the constituent parts of a multi-part geometry.\n",
      "  np.asarray(streets[0])\n",
      "C:\\ProgramData\\Anaconda3\\envs\\mapgen\\lib\\site-packages\\IPython\\core\\interactiveshell.py:3251: ShapelyDeprecationWarning: The array interface is deprecated and will no longer work in Shapely 2.0. Convert the '.coords' to a numpy array instead.\n",
      "  exec(code_obj, self.user_global_ns, self.user_ns)\n"
     ]
    },
    {
     "data": {
      "text/plain": [
       "array([[3303.02939565, 2022.38307753],\n",
       "       [3233.91066804, 1809.19390398]])"
      ]
     },
     "execution_count": 57,
     "metadata": {},
     "output_type": "execute_result"
    }
   ],
   "source": [
    "np.asarray(streets[0])"
   ]
  },
  {
   "cell_type": "code",
   "execution_count": null,
   "id": "56e48d37",
   "metadata": {},
   "outputs": [],
   "source": [
    "from tkinter import filedialog\n",
    "filename = filedialog.asksaveasfile()\n"
   ]
  },
  {
   "cell_type": "code",
   "execution_count": null,
   "id": "5a0d7821",
   "metadata": {},
   "outputs": [],
   "source": []
  }
 ],
 "metadata": {
  "kernelspec": {
   "display_name": "Python 3 (ipykernel)",
   "language": "python",
   "name": "python3"
  },
  "language_info": {
   "codemirror_mode": {
    "name": "ipython",
    "version": 3
   },
   "file_extension": ".py",
   "mimetype": "text/x-python",
   "name": "python",
   "nbconvert_exporter": "python",
   "pygments_lexer": "ipython3",
   "version": "3.10.0"
  }
 },
 "nbformat": 4,
 "nbformat_minor": 5
}
